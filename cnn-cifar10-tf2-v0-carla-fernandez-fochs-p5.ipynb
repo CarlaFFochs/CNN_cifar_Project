{
 "cells": [
  {
   "cell_type": "markdown",
   "id": "9471ed09",
   "metadata": {
    "id": "dWY7kSPW9oJm",
    "papermill": {
     "duration": 0.026033,
     "end_time": "2022-03-04T11:15:19.855069",
     "exception": false,
     "start_time": "2022-03-04T11:15:19.829036",
     "status": "completed"
    },
    "tags": []
   },
   "source": [
    "![Nuclio logo](https://nuclio.school/wp-content/uploads/2018/12/nucleoDS-newBlack.png)"
   ]
  },
  {
   "cell_type": "markdown",
   "id": "0f65fe25",
   "metadata": {
    "id": "e5awq5ZU9oJn",
    "papermill": {
     "duration": 0.024425,
     "end_time": "2022-03-04T11:15:19.905186",
     "exception": false,
     "start_time": "2022-03-04T11:15:19.880761",
     "status": "completed"
    },
    "tags": []
   },
   "source": [
    "## 1. Librerias & Google Drive\n",
    "\n",
    "Para empezar carguemos esas librerias que nos hacen falta"
   ]
  },
  {
   "cell_type": "code",
   "execution_count": 1,
   "id": "4da49ec8",
   "metadata": {
    "execution": {
     "iopub.execute_input": "2022-03-04T11:15:19.968160Z",
     "iopub.status.busy": "2022-03-04T11:15:19.967371Z",
     "iopub.status.idle": "2022-03-04T11:15:25.110343Z",
     "shell.execute_reply": "2022-03-04T11:15:25.109605Z",
     "shell.execute_reply.started": "2022-03-04T10:56:23.422186Z"
    },
    "id": "6e89W2u_9oJo",
    "papermill": {
     "duration": 5.180616,
     "end_time": "2022-03-04T11:15:25.110483",
     "exception": false,
     "start_time": "2022-03-04T11:15:19.929867",
     "status": "completed"
    },
    "tags": []
   },
   "outputs": [],
   "source": [
    "from tensorflow import keras as ks\n",
    "from matplotlib import pyplot as plt\n",
    "import numpy as np\n",
    "import time\n",
    "import datetime\n",
    "from tensorflow.keras.callbacks import EarlyStopping\n",
    "from keras.layers import Dense, Dropout, Activation, Flatten, BatchNormalization\n",
    "from tensorflow.keras.optimizers import Adam\n",
    "import tensorflow as tf\n",
    "from keras.callbacks import LearningRateScheduler\n",
    "\n",
    "from tensorflow.keras.applications import vgg16"
   ]
  },
  {
   "cell_type": "markdown",
   "id": "83c95785",
   "metadata": {
    "id": "G9YqEs4v-hiO",
    "papermill": {
     "duration": 0.024534,
     "end_time": "2022-03-04T11:15:25.160241",
     "exception": false,
     "start_time": "2022-03-04T11:15:25.135707",
     "status": "completed"
    },
    "tags": []
   },
   "source": [
    "Incorporamos la carpeta de Google Drive para poder \"guardar\" nuestros modelos\n",
    "\n",
    "1. Abrir barra lateral de Carpeta\n",
    "2.  Hacer click en carpeta con logo de Google Drive\n"
   ]
  },
  {
   "cell_type": "code",
   "execution_count": 2,
   "id": "b8c52352",
   "metadata": {
    "execution": {
     "iopub.execute_input": "2022-03-04T11:15:25.214343Z",
     "iopub.status.busy": "2022-03-04T11:15:25.213580Z",
     "iopub.status.idle": "2022-03-04T11:15:25.215581Z",
     "shell.execute_reply": "2022-03-04T11:15:25.215969Z",
     "shell.execute_reply.started": "2022-03-04T10:56:23.430398Z"
    },
    "id": "DH4FxJRv_KLM",
    "papermill": {
     "duration": 0.030471,
     "end_time": "2022-03-04T11:15:25.216096",
     "exception": false,
     "start_time": "2022-03-04T11:15:25.185625",
     "status": "completed"
    },
    "tags": []
   },
   "outputs": [],
   "source": [
    "# Aquí iria el codigo para conectarse a Google Drive\n",
    "#from google.colab import drive\n",
    "#drive._mount('/content/drive')"
   ]
  },
  {
   "cell_type": "markdown",
   "id": "283e6fd6",
   "metadata": {
    "id": "6_dptlpJ9oJp",
    "papermill": {
     "duration": 0.024554,
     "end_time": "2022-03-04T11:15:25.266523",
     "exception": false,
     "start_time": "2022-03-04T11:15:25.241969",
     "status": "completed"
    },
    "tags": []
   },
   "source": [
    "## 2. Arquitectura de red del modelo - Proyecto 0\n"
   ]
  },
  {
   "cell_type": "markdown",
   "id": "5848bab9",
   "metadata": {
    "id": "XrqPjPhLee5X",
    "papermill": {
     "duration": 0.024622,
     "end_time": "2022-03-04T11:15:25.315652",
     "exception": false,
     "start_time": "2022-03-04T11:15:25.291030",
     "status": "completed"
    },
    "tags": []
   },
   "source": [
    "* input_shape=(32,32,3) : 3 son los colores RGB\n",
    "* imagen resultante y original tengan el mismo tamaño --> padding\n",
    "* strides > 1 --> imagenes resultantes más pequeñas (podemos reducir la cantidad de datos a procesar)\n",
    "* Max pooling : extraer la información más representativa de los bloques. Permite reducir la cantidad de datos entre una capa y otra, pero preservando la información más relevante. Valor máximo.\n"
   ]
  },
  {
   "cell_type": "code",
   "execution_count": 3,
   "id": "c3011adc",
   "metadata": {
    "execution": {
     "iopub.execute_input": "2022-03-04T11:15:25.379026Z",
     "iopub.status.busy": "2022-03-04T11:15:25.378131Z",
     "iopub.status.idle": "2022-03-04T11:15:27.956947Z",
     "shell.execute_reply": "2022-03-04T11:15:27.957331Z",
     "shell.execute_reply.started": "2022-03-04T10:56:23.440575Z"
    },
    "id": "JoDemzDV9oJp",
    "papermill": {
     "duration": 2.617324,
     "end_time": "2022-03-04T11:15:27.957497",
     "exception": false,
     "start_time": "2022-03-04T11:15:25.340173",
     "status": "completed"
    },
    "tags": []
   },
   "outputs": [
    {
     "name": "stderr",
     "output_type": "stream",
     "text": [
      "2022-03-04 11:15:25.451062: I tensorflow/stream_executor/cuda/cuda_gpu_executor.cc:937] successful NUMA node read from SysFS had negative value (-1), but there must be at least one NUMA node, so returning NUMA node zero\n",
      "2022-03-04 11:15:25.621915: I tensorflow/stream_executor/cuda/cuda_gpu_executor.cc:937] successful NUMA node read from SysFS had negative value (-1), but there must be at least one NUMA node, so returning NUMA node zero\n",
      "2022-03-04 11:15:25.622621: I tensorflow/stream_executor/cuda/cuda_gpu_executor.cc:937] successful NUMA node read from SysFS had negative value (-1), but there must be at least one NUMA node, so returning NUMA node zero\n",
      "2022-03-04 11:15:25.623761: I tensorflow/core/platform/cpu_feature_guard.cc:142] This TensorFlow binary is optimized with oneAPI Deep Neural Network Library (oneDNN) to use the following CPU instructions in performance-critical operations:  AVX2 AVX512F FMA\n",
      "To enable them in other operations, rebuild TensorFlow with the appropriate compiler flags.\n",
      "2022-03-04 11:15:25.624843: I tensorflow/stream_executor/cuda/cuda_gpu_executor.cc:937] successful NUMA node read from SysFS had negative value (-1), but there must be at least one NUMA node, so returning NUMA node zero\n",
      "2022-03-04 11:15:25.625505: I tensorflow/stream_executor/cuda/cuda_gpu_executor.cc:937] successful NUMA node read from SysFS had negative value (-1), but there must be at least one NUMA node, so returning NUMA node zero\n",
      "2022-03-04 11:15:25.626123: I tensorflow/stream_executor/cuda/cuda_gpu_executor.cc:937] successful NUMA node read from SysFS had negative value (-1), but there must be at least one NUMA node, so returning NUMA node zero\n",
      "2022-03-04 11:15:27.480548: I tensorflow/stream_executor/cuda/cuda_gpu_executor.cc:937] successful NUMA node read from SysFS had negative value (-1), but there must be at least one NUMA node, so returning NUMA node zero\n",
      "2022-03-04 11:15:27.481340: I tensorflow/stream_executor/cuda/cuda_gpu_executor.cc:937] successful NUMA node read from SysFS had negative value (-1), but there must be at least one NUMA node, so returning NUMA node zero\n",
      "2022-03-04 11:15:27.481985: I tensorflow/stream_executor/cuda/cuda_gpu_executor.cc:937] successful NUMA node read from SysFS had negative value (-1), but there must be at least one NUMA node, so returning NUMA node zero\n",
      "2022-03-04 11:15:27.482569: I tensorflow/core/common_runtime/gpu/gpu_device.cc:1510] Created device /job:localhost/replica:0/task:0/device:GPU:0 with 15403 MB memory:  -> device: 0, name: Tesla P100-PCIE-16GB, pci bus id: 0000:00:04.0, compute capability: 6.0\n"
     ]
    }
   ],
   "source": [
    "model = ks.Sequential()\n",
    "\n",
    "# CAPAS CONVOLUCIONALES: EXTRACCIÓN DE CARACTERÍSTICAS\n",
    "model.add(ks.layers.Conv2D(32, (3, 3), strides=1, activation='relu', \n",
    "                           padding='same', input_shape=(32,32,3)))\n",
    "model.add(ks.layers.Conv2D(32, (3, 3), strides=1, activation='relu', \n",
    "                           padding='same', input_shape=(32,32,3)))\n",
    "model.add(ks.layers.MaxPooling2D((2, 2)))\n",
    "model.add(ks.layers.Dropout(0.3))\n",
    "\n",
    "model.add(ks.layers.Conv2D(64, (3, 3), strides=1, activation='relu', \n",
    "                           padding='same', input_shape=(32,32,3)))\n",
    "model.add(ks.layers.Conv2D(64, (3, 3), strides=1, activation='relu', \n",
    "                           padding='same', input_shape=(32,32,3)))\n",
    "model.add(ks.layers.MaxPooling2D((2, 2)))\n",
    "model.add(ks.layers.Dropout(0.3))\n",
    "\n",
    "model.add(ks.layers.Conv2D(128, (3, 3), strides=1, activation='relu', \n",
    "                           padding='same', input_shape=(32,32,3)))\n",
    "\n",
    "model.add(ks.layers.Conv2D(128, (3, 3), strides=1, activation='relu', \n",
    "                           padding='same', input_shape=(32,32,3)))\n",
    "model.add(ks.layers.MaxPooling2D((2, 2)))\n",
    "model.add(ks.layers.Dropout(0.3))\n",
    "\n",
    "model.add(ks.layers.Conv2D(256, (3, 3), strides=1, activation='relu', \n",
    "                           padding='same', input_shape=(32,32,3)))\n",
    "model.add(BatchNormalization())\n",
    "model.add(ks.layers.MaxPooling2D((2, 2)))\n",
    "model.add(ks.layers.Dropout(0.3))\n",
    "\n",
    "model.add(ks.layers.Flatten())\n",
    "\n",
    "# RED NEURONAL : CLASIFICACIÓN\n",
    "model.add(ks.layers.Dense(256, activation='relu'))\n",
    "model.add(BatchNormalization())\n",
    "model.add(ks.layers.Dropout(0.2))\n",
    "model.add(ks.layers.Dense(256, activation='relu'))\n",
    "model.add(BatchNormalization())\n",
    "model.add(ks.layers.Dropout(0.1))\n",
    "\n",
    "model.add(ks.layers.Dense(10, activation='softmax'))"
   ]
  },
  {
   "cell_type": "code",
   "execution_count": 4,
   "id": "d7c6e59e",
   "metadata": {
    "execution": {
     "iopub.execute_input": "2022-03-04T11:15:28.014396Z",
     "iopub.status.busy": "2022-03-04T11:15:28.013792Z",
     "iopub.status.idle": "2022-03-04T11:15:28.022690Z",
     "shell.execute_reply": "2022-03-04T11:15:28.023100Z",
     "shell.execute_reply.started": "2022-03-04T10:56:23.598086Z"
    },
    "papermill": {
     "duration": 0.04024,
     "end_time": "2022-03-04T11:15:28.023218",
     "exception": false,
     "start_time": "2022-03-04T11:15:27.982978",
     "status": "completed"
    },
    "tags": []
   },
   "outputs": [
    {
     "name": "stderr",
     "output_type": "stream",
     "text": [
      "/opt/conda/lib/python3.7/site-packages/keras_preprocessing/image/image_data_generator.py:342: UserWarning: This ImageDataGenerator specifies `zca_whitening` which overrides setting of`featurewise_std_normalization`.\n",
      "  warnings.warn('This ImageDataGenerator specifies '\n"
     ]
    },
    {
     "data": {
      "text/plain": [
       "<keras.preprocessing.image.ImageDataGenerator at 0x7f5131b32b50>"
      ]
     },
     "execution_count": 4,
     "metadata": {},
     "output_type": "execute_result"
    }
   ],
   "source": [
    "tf.keras.preprocessing.image.ImageDataGenerator(\n",
    "    featurewise_center=True,\n",
    "    samplewise_center=True,\n",
    "    featurewise_std_normalization=True,\n",
    "    samplewise_std_normalization=True,\n",
    "    zca_whitening=True,\n",
    "    zca_epsilon=1e-06,\n",
    "    rotation_range=50,\n",
    "    width_shift_range=0.3,\n",
    "    height_shift_range=0.3,\n",
    "    brightness_range=None,\n",
    "    shear_range=0.3,\n",
    "    zoom_range=0.3,\n",
    "    channel_shift_range=0.2,\n",
    "    fill_mode=\"nearest\",\n",
    "    cval=0.0,\n",
    "    horizontal_flip=True,\n",
    "    vertical_flip=True,\n",
    "    rescale=None,\n",
    "    preprocessing_function=None,\n",
    "    data_format=None,\n",
    "    validation_split=0.2,\n",
    "    dtype=None,\n",
    ")"
   ]
  },
  {
   "cell_type": "markdown",
   "id": "9bb72ef3",
   "metadata": {
    "id": "rhpzEhLy9oJq",
    "papermill": {
     "duration": 0.02595,
     "end_time": "2022-03-04T11:15:28.074941",
     "exception": false,
     "start_time": "2022-03-04T11:15:28.048991",
     "status": "completed"
    },
    "tags": []
   },
   "source": [
    "Para revisar un modelo, nos basta con llamar al método **.summary()** del modelo"
   ]
  },
  {
   "cell_type": "code",
   "execution_count": 5,
   "id": "8af1a43d",
   "metadata": {
    "execution": {
     "iopub.execute_input": "2022-03-04T11:15:28.132678Z",
     "iopub.status.busy": "2022-03-04T11:15:28.130921Z",
     "iopub.status.idle": "2022-03-04T11:15:28.145516Z",
     "shell.execute_reply": "2022-03-04T11:15:28.144920Z",
     "shell.execute_reply.started": "2022-03-04T10:56:23.609752Z"
    },
    "id": "QPzKurY89oJq",
    "outputId": "54a6b02e-c437-42b4-8c27-b63162dcc2a8",
    "papermill": {
     "duration": 0.04514,
     "end_time": "2022-03-04T11:15:28.145675",
     "exception": false,
     "start_time": "2022-03-04T11:15:28.100535",
     "status": "completed"
    },
    "tags": []
   },
   "outputs": [
    {
     "name": "stdout",
     "output_type": "stream",
     "text": [
      "Model: \"sequential\"\n",
      "_________________________________________________________________\n",
      "Layer (type)                 Output Shape              Param #   \n",
      "=================================================================\n",
      "conv2d (Conv2D)              (None, 32, 32, 32)        896       \n",
      "_________________________________________________________________\n",
      "conv2d_1 (Conv2D)            (None, 32, 32, 32)        9248      \n",
      "_________________________________________________________________\n",
      "max_pooling2d (MaxPooling2D) (None, 16, 16, 32)        0         \n",
      "_________________________________________________________________\n",
      "dropout (Dropout)            (None, 16, 16, 32)        0         \n",
      "_________________________________________________________________\n",
      "conv2d_2 (Conv2D)            (None, 16, 16, 64)        18496     \n",
      "_________________________________________________________________\n",
      "conv2d_3 (Conv2D)            (None, 16, 16, 64)        36928     \n",
      "_________________________________________________________________\n",
      "max_pooling2d_1 (MaxPooling2 (None, 8, 8, 64)          0         \n",
      "_________________________________________________________________\n",
      "dropout_1 (Dropout)          (None, 8, 8, 64)          0         \n",
      "_________________________________________________________________\n",
      "conv2d_4 (Conv2D)            (None, 8, 8, 128)         73856     \n",
      "_________________________________________________________________\n",
      "conv2d_5 (Conv2D)            (None, 8, 8, 128)         147584    \n",
      "_________________________________________________________________\n",
      "max_pooling2d_2 (MaxPooling2 (None, 4, 4, 128)         0         \n",
      "_________________________________________________________________\n",
      "dropout_2 (Dropout)          (None, 4, 4, 128)         0         \n",
      "_________________________________________________________________\n",
      "conv2d_6 (Conv2D)            (None, 4, 4, 256)         295168    \n",
      "_________________________________________________________________\n",
      "batch_normalization (BatchNo (None, 4, 4, 256)         1024      \n",
      "_________________________________________________________________\n",
      "max_pooling2d_3 (MaxPooling2 (None, 2, 2, 256)         0         \n",
      "_________________________________________________________________\n",
      "dropout_3 (Dropout)          (None, 2, 2, 256)         0         \n",
      "_________________________________________________________________\n",
      "flatten (Flatten)            (None, 1024)              0         \n",
      "_________________________________________________________________\n",
      "dense (Dense)                (None, 256)               262400    \n",
      "_________________________________________________________________\n",
      "batch_normalization_1 (Batch (None, 256)               1024      \n",
      "_________________________________________________________________\n",
      "dropout_4 (Dropout)          (None, 256)               0         \n",
      "_________________________________________________________________\n",
      "dense_1 (Dense)              (None, 256)               65792     \n",
      "_________________________________________________________________\n",
      "batch_normalization_2 (Batch (None, 256)               1024      \n",
      "_________________________________________________________________\n",
      "dropout_5 (Dropout)          (None, 256)               0         \n",
      "_________________________________________________________________\n",
      "dense_2 (Dense)              (None, 10)                2570      \n",
      "=================================================================\n",
      "Total params: 916,010\n",
      "Trainable params: 914,474\n",
      "Non-trainable params: 1,536\n",
      "_________________________________________________________________\n"
     ]
    }
   ],
   "source": [
    "model.summary()"
   ]
  },
  {
   "cell_type": "markdown",
   "id": "3ed4d090",
   "metadata": {
    "id": "Y6bEaf7l9oJq",
    "papermill": {
     "duration": 0.026608,
     "end_time": "2022-03-04T11:15:28.199094",
     "exception": false,
     "start_time": "2022-03-04T11:15:28.172486",
     "status": "completed"
    },
    "tags": []
   },
   "source": [
    "## 3. Optimizador, función error\n"
   ]
  },
  {
   "cell_type": "code",
   "execution_count": 6,
   "id": "2786fae5",
   "metadata": {
    "execution": {
     "iopub.execute_input": "2022-03-04T11:15:28.254710Z",
     "iopub.status.busy": "2022-03-04T11:15:28.253968Z",
     "iopub.status.idle": "2022-03-04T11:15:28.256396Z",
     "shell.execute_reply": "2022-03-04T11:15:28.255983Z",
     "shell.execute_reply.started": "2022-03-04T10:56:23.633346Z"
    },
    "id": "eDfwXObn9oJr",
    "papermill": {
     "duration": 0.031402,
     "end_time": "2022-03-04T11:15:28.256505",
     "exception": false,
     "start_time": "2022-03-04T11:15:28.225103",
     "status": "completed"
    },
    "tags": []
   },
   "outputs": [],
   "source": [
    "#model.compile(optimizer='Adam',\n",
    "              #loss='sparse_categorical_crossentropy',\n",
    "              #metrics=['accuracy'])"
   ]
  },
  {
   "cell_type": "code",
   "execution_count": 7,
   "id": "f68c436a",
   "metadata": {
    "execution": {
     "iopub.execute_input": "2022-03-04T11:15:28.316906Z",
     "iopub.status.busy": "2022-03-04T11:15:28.313306Z",
     "iopub.status.idle": "2022-03-04T11:15:28.322542Z",
     "shell.execute_reply": "2022-03-04T11:15:28.322938Z",
     "shell.execute_reply.started": "2022-03-04T10:56:23.637692Z"
    },
    "papermill": {
     "duration": 0.040808,
     "end_time": "2022-03-04T11:15:28.323074",
     "exception": false,
     "start_time": "2022-03-04T11:15:28.282266",
     "status": "completed"
    },
    "tags": []
   },
   "outputs": [],
   "source": [
    "new_adam = Adam(learning_rate=0.001)\n",
    "model.compile(optimizer=new_adam,\n",
    "              loss='sparse_categorical_crossentropy',\n",
    "              metrics=['accuracy'] )"
   ]
  },
  {
   "cell_type": "markdown",
   "id": "6c5f0403",
   "metadata": {
    "id": "qHBg7wfE9oJr",
    "papermill": {
     "duration": 0.026403,
     "end_time": "2022-03-04T11:15:28.375624",
     "exception": false,
     "start_time": "2022-03-04T11:15:28.349221",
     "status": "completed"
    },
    "tags": []
   },
   "source": [
    "## 4. Preparamos los datos\n",
    "\n",
    "Cargamos los datos de CIFAR10 de los datasets directamente de las librerias de Keras. Estos ya estan dispuestos en train and test\n",
    "\n",
    "**Detalle importante:** \n",
    "> La red neuronal requiere que los inputs sean números reales, y lo haremos forzando la division de los valores de dentro de las matrices 28x28 (que tienen valoress del 0 al 255) por 255.0 (un real)"
   ]
  },
  {
   "cell_type": "code",
   "execution_count": 8,
   "id": "be5e95b5",
   "metadata": {
    "execution": {
     "iopub.execute_input": "2022-03-04T11:15:28.436557Z",
     "iopub.status.busy": "2022-03-04T11:15:28.435782Z",
     "iopub.status.idle": "2022-03-04T11:15:42.452338Z",
     "shell.execute_reply": "2022-03-04T11:15:42.451846Z",
     "shell.execute_reply.started": "2022-03-04T10:56:23.658041Z"
    },
    "id": "9mZWEbQc9oJr",
    "outputId": "64bc1bf6-7fb2-48be-987e-2736f3b20387",
    "papermill": {
     "duration": 14.048725,
     "end_time": "2022-03-04T11:15:42.452472",
     "exception": false,
     "start_time": "2022-03-04T11:15:28.403747",
     "status": "completed"
    },
    "tags": []
   },
   "outputs": [
    {
     "name": "stdout",
     "output_type": "stream",
     "text": [
      "Downloading data from https://www.cs.toronto.edu/~kriz/cifar-10-python.tar.gz\n",
      "170500096/170498071 [==============================] - 11s 0us/step\n",
      "170508288/170498071 [==============================] - 11s 0us/step\n"
     ]
    }
   ],
   "source": [
    "cifar10 = ks.datasets.cifar10\n",
    "\n",
    "(x_train, y_train), (x_test, y_test) = cifar10.load_data()\n",
    "\n",
    "x_train_scaled, x_test_scaled = x_train / 255.0, x_test / 255.0"
   ]
  },
  {
   "cell_type": "code",
   "execution_count": 9,
   "id": "1f1c5137",
   "metadata": {
    "execution": {
     "iopub.execute_input": "2022-03-04T11:15:42.559915Z",
     "iopub.status.busy": "2022-03-04T11:15:42.559265Z",
     "iopub.status.idle": "2022-03-04T11:15:42.562082Z",
     "shell.execute_reply": "2022-03-04T11:15:42.562533Z",
     "shell.execute_reply.started": "2022-03-04T10:56:24.719612Z"
    },
    "id": "j8A9za5z9oJr",
    "outputId": "888ee721-2747-4004-b1fe-ba260adcb5ff",
    "papermill": {
     "duration": 0.059242,
     "end_time": "2022-03-04T11:15:42.562675",
     "exception": false,
     "start_time": "2022-03-04T11:15:42.503433",
     "status": "completed"
    },
    "tags": []
   },
   "outputs": [
    {
     "data": {
      "text/plain": [
       "array([[6],\n",
       "       [9],\n",
       "       [9],\n",
       "       ...,\n",
       "       [9],\n",
       "       [1],\n",
       "       [1]], dtype=uint8)"
      ]
     },
     "execution_count": 9,
     "metadata": {},
     "output_type": "execute_result"
    }
   ],
   "source": [
    "y_train_label = y_train\n",
    "\n",
    "y_test\n",
    "y_train"
   ]
  },
  {
   "cell_type": "markdown",
   "id": "a5c3c618",
   "metadata": {
    "id": "bQf1GueY9oJs",
    "papermill": {
     "duration": 0.049613,
     "end_time": "2022-03-04T11:15:42.662142",
     "exception": false,
     "start_time": "2022-03-04T11:15:42.612529",
     "status": "completed"
    },
    "tags": []
   },
   "source": [
    "Obtenemos un array con todas las labels de CIFAR10"
   ]
  },
  {
   "cell_type": "code",
   "execution_count": 10,
   "id": "246d307c",
   "metadata": {
    "execution": {
     "iopub.execute_input": "2022-03-04T11:15:42.767808Z",
     "iopub.status.busy": "2022-03-04T11:15:42.767214Z",
     "iopub.status.idle": "2022-03-04T11:15:42.769966Z",
     "shell.execute_reply": "2022-03-04T11:15:42.770576Z",
     "shell.execute_reply.started": "2022-03-04T10:56:24.729186Z"
    },
    "id": "EJR1ydE99oJs",
    "outputId": "e5f31edc-08bb-444e-e033-6ddc80e901aa",
    "papermill": {
     "duration": 0.058746,
     "end_time": "2022-03-04T11:15:42.770760",
     "exception": false,
     "start_time": "2022-03-04T11:15:42.712014",
     "status": "completed"
    },
    "tags": []
   },
   "outputs": [
    {
     "name": "stdout",
     "output_type": "stream",
     "text": [
      "Number of labels: 10\n"
     ]
    }
   ],
   "source": [
    "cifar10_labels = [\n",
    "'airplane', # id 0\n",
    "'automobile',\n",
    "'bird',\n",
    "'cat',\n",
    "'deer',\n",
    "'dog',\n",
    "'frog',\n",
    "'horse',\n",
    "'ship',\n",
    "'truck',\n",
    "]\n",
    "\n",
    "print('Number of labels: %s' % len(cifar10_labels))"
   ]
  },
  {
   "cell_type": "markdown",
   "id": "6d6b37fc",
   "metadata": {
    "id": "61GhgQs49oJs",
    "papermill": {
     "duration": 0.050155,
     "end_time": "2022-03-04T11:15:42.872456",
     "exception": false,
     "start_time": "2022-03-04T11:15:42.822301",
     "status": "completed"
    },
    "tags": []
   },
   "source": [
    "Pintemos una muestra de las imagenes del dataset CIFAR10, a ver si se parece en algo a lo que esperamos.\n",
    "Primero, vemos que tipos de datos tengo, después mapeamos esas matrices en una escala de grises utilizando el método **.get_cmap()** de PlotLy con los nueve primeros números del dataset."
   ]
  },
  {
   "cell_type": "code",
   "execution_count": 11,
   "id": "5b140fcf",
   "metadata": {
    "execution": {
     "iopub.execute_input": "2022-03-04T11:15:42.983122Z",
     "iopub.status.busy": "2022-03-04T11:15:42.977545Z",
     "iopub.status.idle": "2022-03-04T11:15:43.592436Z",
     "shell.execute_reply": "2022-03-04T11:15:43.592866Z",
     "shell.execute_reply.started": "2022-03-04T10:56:24.738813Z"
    },
    "id": "9-Dk8dgQ9oJs",
    "outputId": "6cb615fb-b62e-4315-f474-c3c77c50e8b5",
    "papermill": {
     "duration": 0.670004,
     "end_time": "2022-03-04T11:15:43.593009",
     "exception": false,
     "start_time": "2022-03-04T11:15:42.923005",
     "status": "completed"
    },
    "tags": []
   },
   "outputs": [
    {
     "name": "stdout",
     "output_type": "stream",
     "text": [
      "Train: X=(50000, 32, 32, 3), y=(50000, 1)\n",
      "Test: X=(10000, 32, 32, 3), y=(10000, 1)\n"
     ]
    },
    {
     "data": {
      "image/png": "[encoded data removed]",
      "text/plain": [
       "<Figure size 432x288 with 9 Axes>"
      ]
     },
     "metadata": {
      "needs_background": "light"
     },
     "output_type": "display_data"
    }
   ],
   "source": [
    "# Pintemos una muestra de las las imagenes del dataset MNIST\n",
    "\n",
    "print('Train: X=%s, y=%s' % (x_train.shape, y_train.shape))\n",
    "print('Test: X=%s, y=%s' % (x_test.shape, y_test.shape))\n",
    "\n",
    "for i in range(9):\n",
    "\n",
    "    plt.subplot(330 + 1 + i)\n",
    "    plt.imshow(x_train[i], cmap=plt.get_cmap('gray'))\n",
    "    plt.title(cifar10_labels[y_train_label[i,0]])\n",
    "\n",
    "plt.subplots_adjust(hspace = 1)\n",
    "plt.show()"
   ]
  },
  {
   "cell_type": "markdown",
   "id": "4d7590dd",
   "metadata": {
    "id": "WRm5syYA9oJt",
    "papermill": {
     "duration": 0.052327,
     "end_time": "2022-03-04T11:15:43.697724",
     "exception": false,
     "start_time": "2022-03-04T11:15:43.645397",
     "status": "completed"
    },
    "tags": []
   },
   "source": [
    "Como vamos a querer ir haciendo validación a la vez que entrenamos (muy practico)"
   ]
  },
  {
   "cell_type": "code",
   "execution_count": 12,
   "id": "a76a0bc3",
   "metadata": {
    "execution": {
     "iopub.execute_input": "2022-03-04T11:15:43.852573Z",
     "iopub.status.busy": "2022-03-04T11:15:43.849779Z",
     "iopub.status.idle": "2022-03-04T11:15:43.854980Z",
     "shell.execute_reply": "2022-03-04T11:15:43.854525Z",
     "shell.execute_reply.started": "2022-03-04T10:56:25.376080Z"
    },
    "id": "ll_ESZXN9oJt",
    "papermill": {
     "duration": 0.098401,
     "end_time": "2022-03-04T11:15:43.855102",
     "exception": false,
     "start_time": "2022-03-04T11:15:43.756701",
     "status": "completed"
    },
    "tags": []
   },
   "outputs": [],
   "source": [
    "x_val_scaled = x_train_scaled[-10000:]\n",
    "y_val = y_train[-10000:]\n",
    "\n",
    "x_train_scaled = x_train_scaled[:-10000]\n",
    "y_train = y_train[:-10000]\n"
   ]
  },
  {
   "cell_type": "markdown",
   "id": "ac58cf56",
   "metadata": {
    "id": "857gyhgz9oJt",
    "papermill": {
     "duration": 0.052455,
     "end_time": "2022-03-04T11:15:43.960040",
     "exception": false,
     "start_time": "2022-03-04T11:15:43.907585",
     "status": "completed"
    },
    "tags": []
   },
   "source": [
    "Cuando añadimos convoluciones, necesitamos \"pre-tratar los datos\", porque **la convolución espera una matriz de 4 campos** (más parecido a \"imagenes\"), en el caso de MNIST. CIFAR10 ya tiene el shape adecuado, así que no tenemos que hacer nada, pero como siempre decimos: es mejor que comprobeis su tamaño.\n",
    "\n",
    "Por eso, al salir de la Convolution, hay que hacer un Flatten, porque las capas FullDense esperan arrays, no matrices!!\n",
    "\n",
    "Luego lo imprimimos para ver que todo está correcto"
   ]
  },
  {
   "cell_type": "code",
   "execution_count": 13,
   "id": "427834af",
   "metadata": {
    "execution": {
     "iopub.execute_input": "2022-03-04T11:15:44.070531Z",
     "iopub.status.busy": "2022-03-04T11:15:44.069564Z",
     "iopub.status.idle": "2022-03-04T11:15:44.073201Z",
     "shell.execute_reply": "2022-03-04T11:15:44.073856Z",
     "shell.execute_reply.started": "2022-03-04T10:56:25.386011Z"
    },
    "id": "GsD9N7Jf9oJt",
    "outputId": "ea9825e0-1c5e-446d-9f37-1f06f7d8a476",
    "papermill": {
     "duration": 0.061301,
     "end_time": "2022-03-04T11:15:44.074031",
     "exception": false,
     "start_time": "2022-03-04T11:15:44.012730",
     "status": "completed"
    },
    "tags": []
   },
   "outputs": [
    {
     "name": "stdout",
     "output_type": "stream",
     "text": [
      "Train: X=(40000, 32, 32, 3), y=(40000, 1)\n",
      "Test: X=(10000, 32, 32, 3), y=(10000, 1)\n",
      "Validation: X=(10000, 32, 32, 3), y=(10000, 1)\n"
     ]
    }
   ],
   "source": [
    "# Validamos el resultado\n",
    "print('Train: X=%s, y=%s' % (x_train_scaled.shape, y_train.shape))\n",
    "print('Test: X=%s, y=%s' % (x_test_scaled.shape, y_test.shape))\n",
    "print('Validation: X=%s, y=%s' % (x_val_scaled.shape, y_val.shape))"
   ]
  },
  {
   "cell_type": "markdown",
   "id": "ca4bd484",
   "metadata": {
    "id": "x4CSQVcD9oJu",
    "papermill": {
     "duration": 0.052894,
     "end_time": "2022-03-04T11:15:44.180581",
     "exception": false,
     "start_time": "2022-03-04T11:15:44.127687",
     "status": "completed"
    },
    "tags": []
   },
   "source": [
    "## 5. Entrenamiento\n",
    "\n",
    "Ya podemos ponernos a entrenar el modelo!! Ojo, que hemos de entrenar contra los datos convertidos al formato que espera la Convolution.\n",
    "\n",
    "Empezaremos con 30 epocs, es decir, 30 pasadas completas del dataset (que a su vez sera con mini-batches internamente), fijando un batch de 64\n",
    "\n",
    "El metodo .fit() nos permite, definir además si disponemos de varias CPUs, GPUs, y si queremos ir validando datos a cada fin de epoch."
   ]
  },
  {
   "cell_type": "markdown",
   "id": "18b1a3fb",
   "metadata": {
    "id": "4hjYmiIjwucd",
    "papermill": {
     "duration": 0.052449,
     "end_time": "2022-03-04T11:15:44.286491",
     "exception": false,
     "start_time": "2022-03-04T11:15:44.234042",
     "status": "completed"
    },
    "tags": []
   },
   "source": [
    "###Early Stopping Callback\n",
    "Añadimos un Early Stopping cuando el modelo ya no mejora\n"
   ]
  },
  {
   "cell_type": "code",
   "execution_count": 14,
   "id": "819f128d",
   "metadata": {
    "execution": {
     "iopub.execute_input": "2022-03-04T11:15:44.396218Z",
     "iopub.status.busy": "2022-03-04T11:15:44.395399Z",
     "iopub.status.idle": "2022-03-04T11:15:44.397759Z",
     "shell.execute_reply": "2022-03-04T11:15:44.397312Z",
     "shell.execute_reply.started": "2022-03-04T10:56:25.399379Z"
    },
    "id": "mPYxWLsfasN9",
    "papermill": {
     "duration": 0.05885,
     "end_time": "2022-03-04T11:15:44.397872",
     "exception": false,
     "start_time": "2022-03-04T11:15:44.339022",
     "status": "completed"
    },
    "tags": []
   },
   "outputs": [],
   "source": [
    "control_accuracy = EarlyStopping(monitor='val_accuracy', patience=5)\n",
    "\n",
    "# cuando la validación no mejora es cuando para\n"
   ]
  },
  {
   "cell_type": "code",
   "execution_count": 15,
   "id": "6e3b2072",
   "metadata": {
    "execution": {
     "iopub.execute_input": "2022-03-04T11:15:44.506559Z",
     "iopub.status.busy": "2022-03-04T11:15:44.505801Z",
     "iopub.status.idle": "2022-03-04T11:15:44.507739Z",
     "shell.execute_reply": "2022-03-04T11:15:44.508126Z",
     "shell.execute_reply.started": "2022-03-04T10:56:25.407940Z"
    },
    "id": "WVDxMUFK9oJu",
    "papermill": {
     "duration": 0.05818,
     "end_time": "2022-03-04T11:15:44.508252",
     "exception": false,
     "start_time": "2022-03-04T11:15:44.450072",
     "status": "completed"
    },
    "tags": []
   },
   "outputs": [],
   "source": [
    "t = time.perf_counter()"
   ]
  },
  {
   "cell_type": "code",
   "execution_count": 16,
   "id": "db47f125",
   "metadata": {
    "execution": {
     "iopub.execute_input": "2022-03-04T11:15:44.617712Z",
     "iopub.status.busy": "2022-03-04T11:15:44.617203Z",
     "iopub.status.idle": "2022-03-04T11:20:54.338570Z",
     "shell.execute_reply": "2022-03-04T11:20:54.339075Z",
     "shell.execute_reply.started": "2022-03-04T10:56:25.416899Z"
    },
    "id": "ecp-nOVj9oJu",
    "outputId": "a9799545-6b66-48b4-ced9-dbaedc03d83c",
    "papermill": {
     "duration": 309.778846,
     "end_time": "2022-03-04T11:20:54.339234",
     "exception": false,
     "start_time": "2022-03-04T11:15:44.560388",
     "status": "completed"
    },
    "tags": []
   },
   "outputs": [
    {
     "name": "stderr",
     "output_type": "stream",
     "text": [
      "2022-03-04 11:15:45.970516: I tensorflow/compiler/mlir/mlir_graph_optimization_pass.cc:185] None of the MLIR Optimization Passes are enabled (registered 2)\n"
     ]
    },
    {
     "name": "stdout",
     "output_type": "stream",
     "text": [
      "Epoch 1/1250\n"
     ]
    },
    {
     "name": "stderr",
     "output_type": "stream",
     "text": [
      "2022-03-04 11:15:47.715159: I tensorflow/stream_executor/cuda/cuda_dnn.cc:369] Loaded cuDNN version 8005\n"
     ]
    },
    {
     "name": "stdout",
     "output_type": "stream",
     "text": [
      "1250/1250 [==============================] - 15s 7ms/step - loss: 1.9842 - accuracy: 0.2758 - val_loss: 1.5896 - val_accuracy: 0.4197\n",
      "Epoch 2/1250\n",
      "1250/1250 [==============================] - 8s 7ms/step - loss: 1.4892 - accuracy: 0.4549 - val_loss: 1.2596 - val_accuracy: 0.5408\n",
      "Epoch 3/1250\n",
      "1250/1250 [==============================] - 8s 6ms/step - loss: 1.2669 - accuracy: 0.5407 - val_loss: 1.2335 - val_accuracy: 0.5656\n",
      "Epoch 4/1250\n",
      "1250/1250 [==============================] - 8s 6ms/step - loss: 1.1233 - accuracy: 0.5954 - val_loss: 1.0012 - val_accuracy: 0.6336\n",
      "Epoch 5/1250\n",
      "1250/1250 [==============================] - 8s 6ms/step - loss: 1.0130 - accuracy: 0.6401 - val_loss: 0.8544 - val_accuracy: 0.6919\n",
      "Epoch 6/1250\n",
      "1250/1250 [==============================] - 8s 7ms/step - loss: 0.9249 - accuracy: 0.6749 - val_loss: 0.8254 - val_accuracy: 0.7112\n",
      "Epoch 7/1250\n",
      "1250/1250 [==============================] - 8s 6ms/step - loss: 0.8551 - accuracy: 0.7003 - val_loss: 0.7309 - val_accuracy: 0.7413\n",
      "Epoch 8/1250\n",
      "1250/1250 [==============================] - 8s 6ms/step - loss: 0.7978 - accuracy: 0.7211 - val_loss: 0.6809 - val_accuracy: 0.7617\n",
      "Epoch 9/1250\n",
      "1250/1250 [==============================] - 8s 6ms/step - loss: 0.7447 - accuracy: 0.7405 - val_loss: 0.7025 - val_accuracy: 0.7538\n",
      "Epoch 10/1250\n",
      "1250/1250 [==============================] - 7s 6ms/step - loss: 0.7094 - accuracy: 0.7524 - val_loss: 0.6827 - val_accuracy: 0.7655\n",
      "Epoch 11/1250\n",
      "1250/1250 [==============================] - 8s 7ms/step - loss: 0.6789 - accuracy: 0.7627 - val_loss: 0.6431 - val_accuracy: 0.7776\n",
      "Epoch 12/1250\n",
      "1250/1250 [==============================] - 8s 6ms/step - loss: 0.6419 - accuracy: 0.7775 - val_loss: 0.6341 - val_accuracy: 0.7807\n",
      "Epoch 13/1250\n",
      "1250/1250 [==============================] - 8s 6ms/step - loss: 0.6201 - accuracy: 0.7844 - val_loss: 0.6341 - val_accuracy: 0.7819\n",
      "Epoch 14/1250\n",
      "1250/1250 [==============================] - 7s 6ms/step - loss: 0.5924 - accuracy: 0.7938 - val_loss: 0.6097 - val_accuracy: 0.7916\n",
      "Epoch 15/1250\n",
      "1250/1250 [==============================] - 9s 7ms/step - loss: 0.5702 - accuracy: 0.8029 - val_loss: 0.6164 - val_accuracy: 0.7965\n",
      "Epoch 16/1250\n",
      "1250/1250 [==============================] - 8s 6ms/step - loss: 0.5484 - accuracy: 0.8092 - val_loss: 0.5624 - val_accuracy: 0.8072\n",
      "Epoch 17/1250\n",
      "1250/1250 [==============================] - 7s 6ms/step - loss: 0.5333 - accuracy: 0.8155 - val_loss: 0.5824 - val_accuracy: 0.8017\n",
      "Epoch 18/1250\n",
      "1250/1250 [==============================] - 8s 6ms/step - loss: 0.5177 - accuracy: 0.8197 - val_loss: 0.6008 - val_accuracy: 0.8001\n",
      "Epoch 19/1250\n",
      "1250/1250 [==============================] - 9s 7ms/step - loss: 0.5038 - accuracy: 0.8249 - val_loss: 0.5297 - val_accuracy: 0.8208\n",
      "Epoch 20/1250\n",
      "1250/1250 [==============================] - 8s 6ms/step - loss: 0.4853 - accuracy: 0.8323 - val_loss: 0.6173 - val_accuracy: 0.7950\n",
      "Epoch 21/1250\n",
      "1250/1250 [==============================] - 7s 6ms/step - loss: 0.4776 - accuracy: 0.8340 - val_loss: 0.5267 - val_accuracy: 0.8202\n",
      "Epoch 22/1250\n",
      "1250/1250 [==============================] - 8s 6ms/step - loss: 0.4592 - accuracy: 0.8406 - val_loss: 0.5576 - val_accuracy: 0.8157\n",
      "Epoch 23/1250\n",
      "1250/1250 [==============================] - 9s 7ms/step - loss: 0.4490 - accuracy: 0.8444 - val_loss: 0.5559 - val_accuracy: 0.8118\n",
      "Epoch 24/1250\n",
      "1250/1250 [==============================] - 8s 6ms/step - loss: 0.4354 - accuracy: 0.8469 - val_loss: 0.5231 - val_accuracy: 0.8237\n",
      "Epoch 25/1250\n",
      "1250/1250 [==============================] - 8s 6ms/step - loss: 0.4250 - accuracy: 0.8516 - val_loss: 0.5177 - val_accuracy: 0.8300\n",
      "Epoch 26/1250\n",
      "1250/1250 [==============================] - 8s 6ms/step - loss: 0.4111 - accuracy: 0.8556 - val_loss: 0.5452 - val_accuracy: 0.8217\n",
      "Epoch 27/1250\n",
      "1250/1250 [==============================] - 9s 7ms/step - loss: 0.4047 - accuracy: 0.8587 - val_loss: 0.5240 - val_accuracy: 0.8264\n",
      "Epoch 28/1250\n",
      "1250/1250 [==============================] - 8s 6ms/step - loss: 0.3951 - accuracy: 0.8597 - val_loss: 0.5030 - val_accuracy: 0.8316\n",
      "Epoch 29/1250\n",
      "1250/1250 [==============================] - 8s 6ms/step - loss: 0.3856 - accuracy: 0.8631 - val_loss: 0.5078 - val_accuracy: 0.8319\n",
      "Epoch 30/1250\n",
      "1250/1250 [==============================] - 8s 6ms/step - loss: 0.3776 - accuracy: 0.8663 - val_loss: 0.6064 - val_accuracy: 0.8089\n",
      "Epoch 31/1250\n",
      "1250/1250 [==============================] - 9s 7ms/step - loss: 0.3745 - accuracy: 0.8678 - val_loss: 0.5173 - val_accuracy: 0.8321\n",
      "Epoch 32/1250\n",
      "1250/1250 [==============================] - 7s 6ms/step - loss: 0.3609 - accuracy: 0.8738 - val_loss: 0.5103 - val_accuracy: 0.8309\n",
      "Epoch 33/1250\n",
      "1250/1250 [==============================] - 8s 6ms/step - loss: 0.3552 - accuracy: 0.8742 - val_loss: 0.4796 - val_accuracy: 0.8474\n",
      "Epoch 34/1250\n",
      "1250/1250 [==============================] - 8s 6ms/step - loss: 0.3480 - accuracy: 0.8786 - val_loss: 0.4838 - val_accuracy: 0.8414\n",
      "Epoch 35/1250\n",
      "1250/1250 [==============================] - 8s 6ms/step - loss: 0.3468 - accuracy: 0.8781 - val_loss: 0.5113 - val_accuracy: 0.8391\n",
      "Epoch 36/1250\n",
      "1250/1250 [==============================] - 8s 7ms/step - loss: 0.3383 - accuracy: 0.8802 - val_loss: 0.4893 - val_accuracy: 0.8395\n",
      "Epoch 37/1250\n",
      "1250/1250 [==============================] - 8s 6ms/step - loss: 0.3347 - accuracy: 0.8812 - val_loss: 0.4885 - val_accuracy: 0.8426\n",
      "Epoch 38/1250\n",
      "1250/1250 [==============================] - 8s 6ms/step - loss: 0.3218 - accuracy: 0.8861 - val_loss: 0.4935 - val_accuracy: 0.8412\n"
     ]
    }
   ],
   "source": [
    "history = model.fit(x_train_scaled, y_train, epochs= 1250, \n",
    "                    use_multiprocessing=False, batch_size= 32, \n",
    "                    validation_data=(x_val_scaled, y_val),\n",
    "                    callbacks=[control_accuracy])"
   ]
  },
  {
   "cell_type": "code",
   "execution_count": 17,
   "id": "dfe27324",
   "metadata": {
    "execution": {
     "iopub.execute_input": "2022-03-04T11:20:57.045654Z",
     "iopub.status.busy": "2022-03-04T11:20:57.043823Z",
     "iopub.status.idle": "2022-03-04T11:20:57.048683Z",
     "shell.execute_reply": "2022-03-04T11:20:57.047887Z",
     "shell.execute_reply.started": "2022-03-04T11:01:06.032309Z"
    },
    "id": "OPFPUNcJ9oJu",
    "papermill": {
     "duration": 1.360849,
     "end_time": "2022-03-04T11:20:57.048859",
     "exception": false,
     "start_time": "2022-03-04T11:20:55.688010",
     "status": "completed"
    },
    "tags": []
   },
   "outputs": [
    {
     "name": "stdout",
     "output_type": "stream",
     "text": [
      "Tiempo de entrenamiento: 0:05:12.536174\n"
     ]
    }
   ],
   "source": [
    "elapsed_time = datetime.timedelta(seconds=(time.perf_counter() - t))\n",
    "\n",
    "print('Tiempo de entrenamiento:', elapsed_time)"
   ]
  },
  {
   "cell_type": "markdown",
   "id": "8a72284f",
   "metadata": {
    "id": "n6Byf3JG9oJu",
    "papermill": {
     "duration": 1.388962,
     "end_time": "2022-03-04T11:20:59.798075",
     "exception": false,
     "start_time": "2022-03-04T11:20:58.409113",
     "status": "completed"
    },
    "tags": []
   },
   "source": [
    "## 6. Evaluamos los resultados\n",
    "\n",
    "Obtengamos una grafica de como el error y la accuracy van evolucionando en cada epoch en los datos de entrenamiento y en la validación"
   ]
  },
  {
   "cell_type": "code",
   "execution_count": 18,
   "id": "333210f9",
   "metadata": {
    "execution": {
     "iopub.execute_input": "2022-03-04T11:21:02.518278Z",
     "iopub.status.busy": "2022-03-04T11:21:02.517402Z",
     "iopub.status.idle": "2022-03-04T11:21:03.577984Z",
     "shell.execute_reply": "2022-03-04T11:21:03.577383Z",
     "shell.execute_reply.started": "2022-03-04T11:01:06.039487Z"
    },
    "id": "j9IaZ3-W9oJv",
    "papermill": {
     "duration": 2.426814,
     "end_time": "2022-03-04T11:21:03.578146",
     "exception": false,
     "start_time": "2022-03-04T11:21:01.151332",
     "status": "completed"
    },
    "tags": []
   },
   "outputs": [
    {
     "name": "stdout",
     "output_type": "stream",
     "text": [
      "> 83.390\n"
     ]
    }
   ],
   "source": [
    "_, acc = model.evaluate(x_test_scaled, y_test, verbose=0)\n",
    "print('> %.3f' % (acc * 100.0))"
   ]
  },
  {
   "cell_type": "code",
   "execution_count": 19,
   "id": "6aca1668",
   "metadata": {
    "execution": {
     "iopub.execute_input": "2022-03-04T11:21:07.036914Z",
     "iopub.status.busy": "2022-03-04T11:21:07.035840Z",
     "iopub.status.idle": "2022-03-04T11:21:07.412017Z",
     "shell.execute_reply": "2022-03-04T11:21:07.411534Z",
     "shell.execute_reply.started": "2022-03-04T11:01:07.135027Z"
    },
    "id": "GrH8OFmF9oJv",
    "papermill": {
     "duration": 1.759735,
     "end_time": "2022-03-04T11:21:07.412160",
     "exception": false,
     "start_time": "2022-03-04T11:21:05.652425",
     "status": "completed"
    },
    "tags": []
   },
   "outputs": [
    {
     "data": {
      "image/png": "[encoded data removed]",
      "text/plain": [
       "<Figure size 432x288 with 1 Axes>"
      ]
     },
     "metadata": {
      "needs_background": "light"
     },
     "output_type": "display_data"
    },
    {
     "data": {
      "image/png": "[encoded data removed]",
      "text/plain": [
       "<Figure size 432x288 with 1 Axes>"
      ]
     },
     "metadata": {
      "needs_background": "light"
     },
     "output_type": "display_data"
    }
   ],
   "source": [
    "plt.title('Cross Entropy Loss')\n",
    "plt.plot(history.history['loss'], color='blue', label='train')\n",
    "plt.plot(history.history['val_loss'], color='orange', label='val')\n",
    "plt.legend()\n",
    "plt.show()\n",
    "\n",
    "plt.title('Classification Accuracy')\n",
    "plt.plot(history.history['accuracy'], color='blue', label='train')\n",
    "plt.plot(history.history['val_accuracy'], color='orange', label='val')\n",
    "plt.legend()\n",
    "plt.show()"
   ]
  },
  {
   "cell_type": "markdown",
   "id": "2d07c18c",
   "metadata": {
    "id": "BT7Xpz409oJv",
    "papermill": {
     "duration": 1.399629,
     "end_time": "2022-03-04T11:21:10.172568",
     "exception": false,
     "start_time": "2022-03-04T11:21:08.772939",
     "status": "completed"
    },
    "tags": []
   },
   "source": [
    "El coste podemos ver que es estable y es en el epoch 15 que se fija en un valor. Además la accuracy baila alrededor de 0.10. No se puede decir que sea un modelo muy bueno.\n",
    "\n",
    "Veamos que tipo de predicciones estoy obteniendo sobre el conjunto de test (vamos a pintar las imagenes y sus clasificaciones)"
   ]
  },
  {
   "cell_type": "code",
   "execution_count": 20,
   "id": "5f300d2a",
   "metadata": {
    "execution": {
     "iopub.execute_input": "2022-03-04T11:21:12.928149Z",
     "iopub.status.busy": "2022-03-04T11:21:12.927316Z",
     "iopub.status.idle": "2022-03-04T11:21:13.799271Z",
     "shell.execute_reply": "2022-03-04T11:21:13.799704Z",
     "shell.execute_reply.started": "2022-03-04T11:01:07.544753Z"
    },
    "id": "G4gqi32X9oJw",
    "papermill": {
     "duration": 2.23788,
     "end_time": "2022-03-04T11:21:13.799875",
     "exception": false,
     "start_time": "2022-03-04T11:21:11.561995",
     "status": "completed"
    },
    "tags": []
   },
   "outputs": [],
   "source": [
    "predictions = model.predict(x_test)"
   ]
  },
  {
   "cell_type": "markdown",
   "id": "e9445497",
   "metadata": {
    "id": "3blmpM1k9oJw",
    "papermill": {
     "duration": 1.36108,
     "end_time": "2022-03-04T11:21:16.775580",
     "exception": false,
     "start_time": "2022-03-04T11:21:15.414500",
     "status": "completed"
    },
    "tags": []
   },
   "source": [
    "Una de las ventajas de Python es que hay montones de funciones y código realizado por terceras personas. Aquí me he fusilado unas bonitas funciones (que he adaptado un poco a mis necesidades) para poder pintar las imagenes, su label (ground truth) y las clasificaciones que hemos realizado."
   ]
  },
  {
   "cell_type": "code",
   "execution_count": 21,
   "id": "bab4c073",
   "metadata": {
    "execution": {
     "iopub.execute_input": "2022-03-04T11:21:19.540338Z",
     "iopub.status.busy": "2022-03-04T11:21:19.539784Z",
     "iopub.status.idle": "2022-03-04T11:21:19.543543Z",
     "shell.execute_reply": "2022-03-04T11:21:19.543141Z",
     "shell.execute_reply.started": "2022-03-04T11:01:08.382004Z"
    },
    "id": "P02wctIA9oJw",
    "papermill": {
     "duration": 1.374007,
     "end_time": "2022-03-04T11:21:19.543677",
     "exception": false,
     "start_time": "2022-03-04T11:21:18.169670",
     "status": "completed"
    },
    "tags": []
   },
   "outputs": [],
   "source": [
    "def plot_image(i, predictions_array, true_label, img):\n",
    "  predictions_array, true_label, img = predictions_array, true_label[i], img[i]\n",
    "  plt.grid(False)\n",
    "  plt.xticks([])\n",
    "  plt.yticks([])\n",
    "\n",
    "  plt.imshow(img, cmap=plt.cm.binary)\n",
    "\n",
    "  predicted_label = np.argmax(predictions_array)\n",
    "  if predicted_label == true_label:\n",
    "    color = 'blue'\n",
    "  else:\n",
    "    color = 'red'\n",
    "\n",
    "  plt.xlabel(\"{} {:2.0f}% ({})\".format(predicted_label,\n",
    "                                100*np.max(predictions_array),\n",
    "                                true_label[0]),\n",
    "                                color=color)\n",
    "\n",
    "def plot_value_array(i, predictions_array, true_label):\n",
    "  predictions_array, true_label = predictions_array, true_label[i]\n",
    "  plt.grid(False)\n",
    "  plt.xticks(range(10))\n",
    "  plt.yticks([])\n",
    "  thisplot = plt.bar(range(10), predictions_array, color=\"#777777\")\n",
    "  plt.ylim([0, 1])\n",
    "  predicted_label = np.argmax(predictions_array)\n",
    "\n",
    "  thisplot[predicted_label].set_color('red')\n",
    "  thisplot[true_label[0]].set_color('blue')"
   ]
  },
  {
   "cell_type": "markdown",
   "id": "5d39bb14",
   "metadata": {
    "id": "kCoAXQ6e9oJw",
    "papermill": {
     "duration": 1.356223,
     "end_time": "2022-03-04T11:21:22.261186",
     "exception": false,
     "start_time": "2022-03-04T11:21:20.904963",
     "status": "completed"
    },
    "tags": []
   },
   "source": [
    "Dibujamos las primeras imagenes, con las predicciones y sus valores reales (un total de 20 imagenes, para no abusar de vuestros laptops)\n",
    "\n",
    "Coloreamos las prediciones correctas en azul y los fallos en rojo. Aunque primero he impreso las etiquetas para que tengamos una referencia al grafico."
   ]
  },
  {
   "cell_type": "code",
   "execution_count": 22,
   "id": "ef3ed987",
   "metadata": {
    "execution": {
     "iopub.execute_input": "2022-03-04T11:21:25.037260Z",
     "iopub.status.busy": "2022-03-04T11:21:25.025644Z",
     "iopub.status.idle": "2022-03-04T11:21:27.860695Z",
     "shell.execute_reply": "2022-03-04T11:21:27.861215Z",
     "shell.execute_reply.started": "2022-03-04T11:01:08.393431Z"
    },
    "id": "4jcGyOkV9oJx",
    "papermill": {
     "duration": 4.206107,
     "end_time": "2022-03-04T11:21:27.861367",
     "exception": false,
     "start_time": "2022-03-04T11:21:23.655260",
     "status": "completed"
    },
    "tags": []
   },
   "outputs": [
    {
     "name": "stdout",
     "output_type": "stream",
     "text": [
      "0 airplane\n",
      "1 automobile\n",
      "2 bird\n",
      "3 cat\n",
      "4 deer\n",
      "5 dog\n",
      "6 frog\n",
      "7 horse\n",
      "8 ship\n",
      "9 truck\n"
     ]
    },
    {
     "data": {
      "image/png": "[encoded data removed]",
      "text/plain": [
       "<Figure size 1152x720 with 40 Axes>"
      ]
     },
     "metadata": {
      "needs_background": "light"
     },
     "output_type": "display_data"
    }
   ],
   "source": [
    "i = 0\n",
    "for l in cifar10_labels:\n",
    "    print(i, l)\n",
    "    i += 1\n",
    "\n",
    "num_rows = 5\n",
    "num_cols = 4\n",
    "start = 650\n",
    "num_images = num_rows*num_cols\n",
    "plt.figure(figsize=(2*2*num_cols, 2*num_rows))\n",
    "for i in range(num_images):\n",
    "  plt.subplot(num_rows, 2*num_cols, 2*i+1)\n",
    "  plot_image(i+start, predictions[i+start], y_test, x_test)\n",
    "  plt.subplot(num_rows, 2*num_cols, 2*i+2)\n",
    "  plot_value_array(i+start, predictions[i+start], y_test)\n",
    "plt.tight_layout()\n",
    "plt.show()"
   ]
  },
  {
   "cell_type": "markdown",
   "id": "e446f5d1",
   "metadata": {
    "id": "qWT3tPd2-MOP",
    "papermill": {
     "duration": 1.36872,
     "end_time": "2022-03-04T11:21:30.574266",
     "exception": false,
     "start_time": "2022-03-04T11:21:29.205546",
     "status": "completed"
    },
    "tags": []
   },
   "source": [
    "## 7. Guardamos el modelo para futuras evaluaciones\n",
    "\n",
    "Id cambiando los nombres del archivo para ir guardando los diversos proyectos.\n",
    "Aquí lo guardamos en \"local\", pero recordad que lo ideal es que lo guardeis en Google Drive (teneis que montar la unidad, fijar la ruta y allí guardar el modelo .h5)"
   ]
  },
  {
   "cell_type": "code",
   "execution_count": 23,
   "id": "e766ca6b",
   "metadata": {
    "execution": {
     "iopub.execute_input": "2022-03-04T11:21:33.310426Z",
     "iopub.status.busy": "2022-03-04T11:21:33.309880Z",
     "iopub.status.idle": "2022-03-04T11:21:33.399060Z",
     "shell.execute_reply": "2022-03-04T11:21:33.398484Z",
     "shell.execute_reply.started": "2022-03-04T11:01:11.290945Z"
    },
    "id": "wEaRpWif9oJx",
    "papermill": {
     "duration": 1.460854,
     "end_time": "2022-03-04T11:21:33.399203",
     "exception": false,
     "start_time": "2022-03-04T11:21:31.938349",
     "status": "completed"
    },
    "tags": []
   },
   "outputs": [],
   "source": [
    "ruta_googledrive = \"/content/drive/MyDrive/\" # A revisar en vuestra instancia\n",
    "\n",
    "model.save(ruta_googledrive+'cifar10_base_model.h5')"
   ]
  },
  {
   "cell_type": "code",
   "execution_count": null,
   "id": "48846541",
   "metadata": {
    "id": "ER6y4Lz8iCTO",
    "papermill": {
     "duration": 1.401902,
     "end_time": "2022-03-04T11:21:36.217237",
     "exception": false,
     "start_time": "2022-03-04T11:21:34.815335",
     "status": "completed"
    },
    "tags": []
   },
   "outputs": [],
   "source": []
  },
  {
   "cell_type": "code",
   "execution_count": null,
   "id": "c7d531ef",
   "metadata": {
    "papermill": {
     "duration": 1.369569,
     "end_time": "2022-03-04T11:21:39.722507",
     "exception": false,
     "start_time": "2022-03-04T11:21:38.352938",
     "status": "completed"
    },
    "tags": []
   },
   "outputs": [],
   "source": []
  },
  {
   "cell_type": "code",
   "execution_count": null,
   "id": "08395463",
   "metadata": {
    "papermill": {
     "duration": 1.408644,
     "end_time": "2022-03-04T11:21:42.509457",
     "exception": false,
     "start_time": "2022-03-04T11:21:41.100813",
     "status": "completed"
    },
    "tags": []
   },
   "outputs": [],
   "source": []
  }
 ],
 "metadata": {
  "kernelspec": {
   "display_name": "Python 3",
   "language": "python",
   "name": "python3"
  },
  "language_info": {
   "codemirror_mode": {
    "name": "ipython",
    "version": 3
   },
   "file_extension": ".py",
   "mimetype": "text/x-python",
   "name": "python",
   "nbconvert_exporter": "python",
   "pygments_lexer": "ipython3",
   "version": "3.7.12"
  },
  "papermill": {
   "default_parameters": {},
   "duration": 395.257601,
   "end_time": "2022-03-04T11:21:46.991837",
   "environment_variables": {},
   "exception": null,
   "input_path": "__notebook__.ipynb",
   "output_path": "__notebook__.ipynb",
   "parameters": {},
   "start_time": "2022-03-04T11:15:11.734236",
   "version": "2.3.3"
  }
 },
 "nbformat": 4,
 "nbformat_minor": 5
}
