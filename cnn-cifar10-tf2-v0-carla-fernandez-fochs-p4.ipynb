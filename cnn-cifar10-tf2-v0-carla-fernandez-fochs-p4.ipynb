{
 "cells": [
  {
   "cell_type": "markdown",
   "id": "8a2ac23e",
   "metadata": {
    "id": "dWY7kSPW9oJm",
    "papermill": {
     "duration": 0.041733,
     "end_time": "2022-03-04T10:55:13.344880",
     "exception": false,
     "start_time": "2022-03-04T10:55:13.303147",
     "status": "completed"
    },
    "tags": []
   },
   "source": [
    "![Nuclio logo](https://nuclio.school/wp-content/uploads/2018/12/nucleoDS-newBlack.png)"
   ]
  },
  {
   "cell_type": "markdown",
   "id": "893e578e",
   "metadata": {
    "id": "e5awq5ZU9oJn",
    "papermill": {
     "duration": 0.039804,
     "end_time": "2022-03-04T10:55:13.426815",
     "exception": false,
     "start_time": "2022-03-04T10:55:13.387011",
     "status": "completed"
    },
    "tags": []
   },
   "source": [
    "## 1. Librerias & Google Drive\n",
    "\n",
    "Para empezar carguemos esas librerias que nos hacen falta"
   ]
  },
  {
   "cell_type": "code",
   "execution_count": 1,
   "id": "51b727d9",
   "metadata": {
    "execution": {
     "iopub.execute_input": "2022-03-04T10:55:13.527835Z",
     "iopub.status.busy": "2022-03-04T10:55:13.527065Z",
     "iopub.status.idle": "2022-03-04T10:55:18.492245Z",
     "shell.execute_reply": "2022-03-04T10:55:18.491669Z",
     "shell.execute_reply.started": "2022-03-04T10:42:52.211048Z"
    },
    "id": "6e89W2u_9oJo",
    "papermill": {
     "duration": 5.025246,
     "end_time": "2022-03-04T10:55:18.492435",
     "exception": false,
     "start_time": "2022-03-04T10:55:13.467189",
     "status": "completed"
    },
    "tags": []
   },
   "outputs": [],
   "source": [
    "from tensorflow import keras as ks\n",
    "from matplotlib import pyplot as plt\n",
    "import numpy as np\n",
    "import time\n",
    "import datetime\n",
    "from tensorflow.keras.callbacks import EarlyStopping\n",
    "from keras.layers import Dense, Dropout, Activation, Flatten, BatchNormalization\n",
    "from tensorflow.keras.optimizers import Adam\n",
    "import tensorflow as tf\n",
    "from keras.callbacks import LearningRateScheduler\n",
    "\n",
    "from tensorflow.keras.applications import vgg16"
   ]
  },
  {
   "cell_type": "markdown",
   "id": "32e314f1",
   "metadata": {
    "id": "G9YqEs4v-hiO",
    "papermill": {
     "duration": 0.024824,
     "end_time": "2022-03-04T10:55:18.542852",
     "exception": false,
     "start_time": "2022-03-04T10:55:18.518028",
     "status": "completed"
    },
    "tags": []
   },
   "source": [
    "Incorporamos la carpeta de Google Drive para poder \"guardar\" nuestros modelos\n",
    "\n",
    "1. Abrir barra lateral de Carpeta\n",
    "2.  Hacer click en carpeta con logo de Google Drive\n"
   ]
  },
  {
   "cell_type": "code",
   "execution_count": 2,
   "id": "ec9c2ba4",
   "metadata": {
    "execution": {
     "iopub.execute_input": "2022-03-04T10:55:18.595634Z",
     "iopub.status.busy": "2022-03-04T10:55:18.594967Z",
     "iopub.status.idle": "2022-03-04T10:55:18.598358Z",
     "shell.execute_reply": "2022-03-04T10:55:18.597873Z",
     "shell.execute_reply.started": "2022-03-04T10:42:52.220440Z"
    },
    "id": "DH4FxJRv_KLM",
    "papermill": {
     "duration": 0.030967,
     "end_time": "2022-03-04T10:55:18.598486",
     "exception": false,
     "start_time": "2022-03-04T10:55:18.567519",
     "status": "completed"
    },
    "tags": []
   },
   "outputs": [],
   "source": [
    "# Aquí iria el codigo para conectarse a Google Drive\n",
    "#from google.colab import drive\n",
    "#drive._mount('/content/drive')"
   ]
  },
  {
   "cell_type": "markdown",
   "id": "068e7b69",
   "metadata": {
    "id": "6_dptlpJ9oJp",
    "papermill": {
     "duration": 0.024523,
     "end_time": "2022-03-04T10:55:18.649381",
     "exception": false,
     "start_time": "2022-03-04T10:55:18.624858",
     "status": "completed"
    },
    "tags": []
   },
   "source": [
    "## 2. Arquitectura de red del modelo - Proyecto 0\n"
   ]
  },
  {
   "cell_type": "markdown",
   "id": "adb3a8bd",
   "metadata": {
    "id": "XrqPjPhLee5X",
    "papermill": {
     "duration": 0.027121,
     "end_time": "2022-03-04T10:55:18.701385",
     "exception": false,
     "start_time": "2022-03-04T10:55:18.674264",
     "status": "completed"
    },
    "tags": []
   },
   "source": [
    "* input_shape=(32,32,3) : 3 son los colores RGB\n",
    "* imagen resultante y original tengan el mismo tamaño --> padding\n",
    "* strides > 1 --> imagenes resultantes más pequeñas (podemos reducir la cantidad de datos a procesar)\n",
    "* Max pooling : extraer la información más representativa de los bloques. Permite reducir la cantidad de datos entre una capa y otra, pero preservando la información más relevante. Valor máximo.\n"
   ]
  },
  {
   "cell_type": "code",
   "execution_count": 3,
   "id": "e40fb4fb",
   "metadata": {
    "execution": {
     "iopub.execute_input": "2022-03-04T10:55:18.759026Z",
     "iopub.status.busy": "2022-03-04T10:55:18.758059Z",
     "iopub.status.idle": "2022-03-04T10:55:21.189958Z",
     "shell.execute_reply": "2022-03-04T10:55:21.190449Z",
     "shell.execute_reply.started": "2022-03-04T10:42:52.231314Z"
    },
    "id": "JoDemzDV9oJp",
    "papermill": {
     "duration": 2.464577,
     "end_time": "2022-03-04T10:55:21.190613",
     "exception": false,
     "start_time": "2022-03-04T10:55:18.726036",
     "status": "completed"
    },
    "tags": []
   },
   "outputs": [
    {
     "name": "stderr",
     "output_type": "stream",
     "text": [
      "2022-03-04 10:55:18.831168: I tensorflow/stream_executor/cuda/cuda_gpu_executor.cc:937] successful NUMA node read from SysFS had negative value (-1), but there must be at least one NUMA node, so returning NUMA node zero\n",
      "2022-03-04 10:55:18.935819: I tensorflow/stream_executor/cuda/cuda_gpu_executor.cc:937] successful NUMA node read from SysFS had negative value (-1), but there must be at least one NUMA node, so returning NUMA node zero\n",
      "2022-03-04 10:55:18.936526: I tensorflow/stream_executor/cuda/cuda_gpu_executor.cc:937] successful NUMA node read from SysFS had negative value (-1), but there must be at least one NUMA node, so returning NUMA node zero\n",
      "2022-03-04 10:55:18.937682: I tensorflow/core/platform/cpu_feature_guard.cc:142] This TensorFlow binary is optimized with oneAPI Deep Neural Network Library (oneDNN) to use the following CPU instructions in performance-critical operations:  AVX2 AVX512F FMA\n",
      "To enable them in other operations, rebuild TensorFlow with the appropriate compiler flags.\n",
      "2022-03-04 10:55:18.938966: I tensorflow/stream_executor/cuda/cuda_gpu_executor.cc:937] successful NUMA node read from SysFS had negative value (-1), but there must be at least one NUMA node, so returning NUMA node zero\n",
      "2022-03-04 10:55:18.939769: I tensorflow/stream_executor/cuda/cuda_gpu_executor.cc:937] successful NUMA node read from SysFS had negative value (-1), but there must be at least one NUMA node, so returning NUMA node zero\n",
      "2022-03-04 10:55:18.940411: I tensorflow/stream_executor/cuda/cuda_gpu_executor.cc:937] successful NUMA node read from SysFS had negative value (-1), but there must be at least one NUMA node, so returning NUMA node zero\n",
      "2022-03-04 10:55:20.711928: I tensorflow/stream_executor/cuda/cuda_gpu_executor.cc:937] successful NUMA node read from SysFS had negative value (-1), but there must be at least one NUMA node, so returning NUMA node zero\n",
      "2022-03-04 10:55:20.712735: I tensorflow/stream_executor/cuda/cuda_gpu_executor.cc:937] successful NUMA node read from SysFS had negative value (-1), but there must be at least one NUMA node, so returning NUMA node zero\n",
      "2022-03-04 10:55:20.713373: I tensorflow/stream_executor/cuda/cuda_gpu_executor.cc:937] successful NUMA node read from SysFS had negative value (-1), but there must be at least one NUMA node, so returning NUMA node zero\n",
      "2022-03-04 10:55:20.713930: I tensorflow/core/common_runtime/gpu/gpu_device.cc:1510] Created device /job:localhost/replica:0/task:0/device:GPU:0 with 15403 MB memory:  -> device: 0, name: Tesla P100-PCIE-16GB, pci bus id: 0000:00:04.0, compute capability: 6.0\n"
     ]
    }
   ],
   "source": [
    "model = ks.Sequential()\n",
    "\n",
    "# CAPAS CONVOLUCIONALES: EXTRACCIÓN DE CARACTERÍSTICAS\n",
    "model.add(ks.layers.Conv2D(32, (3, 3), strides=1, activation='relu', \n",
    "                           padding='same', input_shape=(32,32,3)))\n",
    "model.add(ks.layers.Conv2D(32, (3, 3), strides=1, activation='relu', \n",
    "                           padding='same', input_shape=(32,32,3)))\n",
    "model.add(ks.layers.MaxPooling2D((2, 2)))\n",
    "model.add(ks.layers.Dropout(0.3))\n",
    "\n",
    "model.add(ks.layers.Conv2D(64, (3, 3), strides=1, activation='relu', \n",
    "                           padding='same', input_shape=(32,32,3)))\n",
    "model.add(ks.layers.Conv2D(64, (3, 3), strides=1, activation='relu', \n",
    "                           padding='same', input_shape=(32,32,3)))\n",
    "model.add(ks.layers.MaxPooling2D((2, 2)))\n",
    "model.add(ks.layers.Dropout(0.3))\n",
    "\n",
    "model.add(ks.layers.Conv2D(128, (3, 3), strides=1, activation='relu', \n",
    "                           padding='same', input_shape=(32,32,3)))\n",
    "\n",
    "model.add(ks.layers.Conv2D(128, (3, 3), strides=1, activation='relu', \n",
    "                           padding='same', input_shape=(32,32,3)))\n",
    "model.add(ks.layers.MaxPooling2D((2, 2)))\n",
    "model.add(ks.layers.Dropout(0.3))\n",
    "\n",
    "model.add(ks.layers.Conv2D(256, (3, 3), strides=1, activation='relu', \n",
    "                           padding='same', input_shape=(32,32,3)))\n",
    "model.add(BatchNormalization())\n",
    "model.add(ks.layers.MaxPooling2D((2, 2)))\n",
    "model.add(ks.layers.Dropout(0.3))\n",
    "\n",
    "model.add(ks.layers.Flatten())\n",
    "\n",
    "# RED NEURONAL : CLASIFICACIÓN\n",
    "model.add(ks.layers.Dense(256, activation='relu'))\n",
    "model.add(BatchNormalization())\n",
    "model.add(ks.layers.Dropout(0.2))\n",
    "model.add(ks.layers.Dense(256, activation='relu'))\n",
    "model.add(BatchNormalization())\n",
    "model.add(ks.layers.Dropout(0.1))\n",
    "\n",
    "model.add(ks.layers.Dense(10, activation='softmax'))"
   ]
  },
  {
   "cell_type": "code",
   "execution_count": 4,
   "id": "819f2fa2",
   "metadata": {
    "execution": {
     "iopub.execute_input": "2022-03-04T10:55:21.248571Z",
     "iopub.status.busy": "2022-03-04T10:55:21.247910Z",
     "iopub.status.idle": "2022-03-04T10:55:21.257674Z",
     "shell.execute_reply": "2022-03-04T10:55:21.258080Z",
     "shell.execute_reply.started": "2022-03-04T10:42:52.385081Z"
    },
    "papermill": {
     "duration": 0.041275,
     "end_time": "2022-03-04T10:55:21.258203",
     "exception": false,
     "start_time": "2022-03-04T10:55:21.216928",
     "status": "completed"
    },
    "tags": []
   },
   "outputs": [
    {
     "name": "stderr",
     "output_type": "stream",
     "text": [
      "/opt/conda/lib/python3.7/site-packages/keras_preprocessing/image/image_data_generator.py:342: UserWarning: This ImageDataGenerator specifies `zca_whitening` which overrides setting of`featurewise_std_normalization`.\n",
      "  warnings.warn('This ImageDataGenerator specifies '\n"
     ]
    },
    {
     "data": {
      "text/plain": [
       "<keras.preprocessing.image.ImageDataGenerator at 0x7fb591a2cb50>"
      ]
     },
     "execution_count": 4,
     "metadata": {},
     "output_type": "execute_result"
    }
   ],
   "source": [
    "tf.keras.preprocessing.image.ImageDataGenerator(\n",
    "    featurewise_center=True,\n",
    "    samplewise_center=True,\n",
    "    featurewise_std_normalization=True,\n",
    "    samplewise_std_normalization=True,\n",
    "    zca_whitening=True,\n",
    "    zca_epsilon=1e-06,\n",
    "    rotation_range=50,\n",
    "    width_shift_range=0.2,\n",
    "    height_shift_range=0.2,\n",
    "    brightness_range=None,\n",
    "    shear_range=0.2,\n",
    "    zoom_range=0.2,\n",
    "    channel_shift_range=0.2,\n",
    "    fill_mode=\"nearest\",\n",
    "    cval=0.0,\n",
    "    horizontal_flip=True,\n",
    "    vertical_flip=True,\n",
    "    rescale=None,\n",
    "    preprocessing_function=None,\n",
    "    data_format=None,\n",
    "    validation_split=0.2,\n",
    "    dtype=None,\n",
    ")"
   ]
  },
  {
   "cell_type": "markdown",
   "id": "fee9c865",
   "metadata": {
    "id": "rhpzEhLy9oJq",
    "papermill": {
     "duration": 0.025796,
     "end_time": "2022-03-04T10:55:21.310176",
     "exception": false,
     "start_time": "2022-03-04T10:55:21.284380",
     "status": "completed"
    },
    "tags": []
   },
   "source": [
    "Para revisar un modelo, nos basta con llamar al método **.summary()** del modelo"
   ]
  },
  {
   "cell_type": "code",
   "execution_count": 5,
   "id": "7d6db630",
   "metadata": {
    "execution": {
     "iopub.execute_input": "2022-03-04T10:55:21.366881Z",
     "iopub.status.busy": "2022-03-04T10:55:21.366029Z",
     "iopub.status.idle": "2022-03-04T10:55:21.380917Z",
     "shell.execute_reply": "2022-03-04T10:55:21.380508Z",
     "shell.execute_reply.started": "2022-03-04T10:42:52.396333Z"
    },
    "id": "QPzKurY89oJq",
    "outputId": "54a6b02e-c437-42b4-8c27-b63162dcc2a8",
    "papermill": {
     "duration": 0.044652,
     "end_time": "2022-03-04T10:55:21.381023",
     "exception": false,
     "start_time": "2022-03-04T10:55:21.336371",
     "status": "completed"
    },
    "tags": []
   },
   "outputs": [
    {
     "name": "stdout",
     "output_type": "stream",
     "text": [
      "Model: \"sequential\"\n",
      "_________________________________________________________________\n",
      "Layer (type)                 Output Shape              Param #   \n",
      "=================================================================\n",
      "conv2d (Conv2D)              (None, 32, 32, 32)        896       \n",
      "_________________________________________________________________\n",
      "conv2d_1 (Conv2D)            (None, 32, 32, 32)        9248      \n",
      "_________________________________________________________________\n",
      "max_pooling2d (MaxPooling2D) (None, 16, 16, 32)        0         \n",
      "_________________________________________________________________\n",
      "dropout (Dropout)            (None, 16, 16, 32)        0         \n",
      "_________________________________________________________________\n",
      "conv2d_2 (Conv2D)            (None, 16, 16, 64)        18496     \n",
      "_________________________________________________________________\n",
      "conv2d_3 (Conv2D)            (None, 16, 16, 64)        36928     \n",
      "_________________________________________________________________\n",
      "max_pooling2d_1 (MaxPooling2 (None, 8, 8, 64)          0         \n",
      "_________________________________________________________________\n",
      "dropout_1 (Dropout)          (None, 8, 8, 64)          0         \n",
      "_________________________________________________________________\n",
      "conv2d_4 (Conv2D)            (None, 8, 8, 128)         73856     \n",
      "_________________________________________________________________\n",
      "conv2d_5 (Conv2D)            (None, 8, 8, 128)         147584    \n",
      "_________________________________________________________________\n",
      "max_pooling2d_2 (MaxPooling2 (None, 4, 4, 128)         0         \n",
      "_________________________________________________________________\n",
      "dropout_2 (Dropout)          (None, 4, 4, 128)         0         \n",
      "_________________________________________________________________\n",
      "conv2d_6 (Conv2D)            (None, 4, 4, 256)         295168    \n",
      "_________________________________________________________________\n",
      "batch_normalization (BatchNo (None, 4, 4, 256)         1024      \n",
      "_________________________________________________________________\n",
      "max_pooling2d_3 (MaxPooling2 (None, 2, 2, 256)         0         \n",
      "_________________________________________________________________\n",
      "dropout_3 (Dropout)          (None, 2, 2, 256)         0         \n",
      "_________________________________________________________________\n",
      "flatten (Flatten)            (None, 1024)              0         \n",
      "_________________________________________________________________\n",
      "dense (Dense)                (None, 256)               262400    \n",
      "_________________________________________________________________\n",
      "batch_normalization_1 (Batch (None, 256)               1024      \n",
      "_________________________________________________________________\n",
      "dropout_4 (Dropout)          (None, 256)               0         \n",
      "_________________________________________________________________\n",
      "dense_1 (Dense)              (None, 256)               65792     \n",
      "_________________________________________________________________\n",
      "batch_normalization_2 (Batch (None, 256)               1024      \n",
      "_________________________________________________________________\n",
      "dropout_5 (Dropout)          (None, 256)               0         \n",
      "_________________________________________________________________\n",
      "dense_2 (Dense)              (None, 10)                2570      \n",
      "=================================================================\n",
      "Total params: 916,010\n",
      "Trainable params: 914,474\n",
      "Non-trainable params: 1,536\n",
      "_________________________________________________________________\n"
     ]
    }
   ],
   "source": [
    "model.summary()"
   ]
  },
  {
   "cell_type": "markdown",
   "id": "49284c75",
   "metadata": {
    "id": "Y6bEaf7l9oJq",
    "papermill": {
     "duration": 0.026452,
     "end_time": "2022-03-04T10:55:21.434358",
     "exception": false,
     "start_time": "2022-03-04T10:55:21.407906",
     "status": "completed"
    },
    "tags": []
   },
   "source": [
    "## 3. Optimizador, función error\n"
   ]
  },
  {
   "cell_type": "code",
   "execution_count": 6,
   "id": "aab3f5a2",
   "metadata": {
    "execution": {
     "iopub.execute_input": "2022-03-04T10:55:21.491716Z",
     "iopub.status.busy": "2022-03-04T10:55:21.491066Z",
     "iopub.status.idle": "2022-03-04T10:55:21.493665Z",
     "shell.execute_reply": "2022-03-04T10:55:21.493215Z",
     "shell.execute_reply.started": "2022-03-04T10:42:52.417193Z"
    },
    "id": "eDfwXObn9oJr",
    "papermill": {
     "duration": 0.032433,
     "end_time": "2022-03-04T10:55:21.493769",
     "exception": false,
     "start_time": "2022-03-04T10:55:21.461336",
     "status": "completed"
    },
    "tags": []
   },
   "outputs": [],
   "source": [
    "#model.compile(optimizer='Adam',\n",
    "              #loss='sparse_categorical_crossentropy',\n",
    "              #metrics=['accuracy'])"
   ]
  },
  {
   "cell_type": "code",
   "execution_count": 7,
   "id": "74088630",
   "metadata": {
    "execution": {
     "iopub.execute_input": "2022-03-04T10:55:21.554975Z",
     "iopub.status.busy": "2022-03-04T10:55:21.554174Z",
     "iopub.status.idle": "2022-03-04T10:55:21.560665Z",
     "shell.execute_reply": "2022-03-04T10:55:21.560204Z",
     "shell.execute_reply.started": "2022-03-04T10:42:52.422810Z"
    },
    "papermill": {
     "duration": 0.040402,
     "end_time": "2022-03-04T10:55:21.560770",
     "exception": false,
     "start_time": "2022-03-04T10:55:21.520368",
     "status": "completed"
    },
    "tags": []
   },
   "outputs": [],
   "source": [
    "new_adam = Adam(learning_rate=0.001)\n",
    "model.compile(optimizer=new_adam,\n",
    "              loss='sparse_categorical_crossentropy',\n",
    "              metrics=['accuracy'] )"
   ]
  },
  {
   "cell_type": "markdown",
   "id": "a044f5aa",
   "metadata": {
    "id": "qHBg7wfE9oJr",
    "papermill": {
     "duration": 0.026308,
     "end_time": "2022-03-04T10:55:21.613414",
     "exception": false,
     "start_time": "2022-03-04T10:55:21.587106",
     "status": "completed"
    },
    "tags": []
   },
   "source": [
    "## 4. Preparamos los datos\n",
    "\n",
    "Cargamos los datos de CIFAR10 de los datasets directamente de las librerias de Keras. Estos ya estan dispuestos en train and test\n",
    "\n",
    "**Detalle importante:** \n",
    "> La red neuronal requiere que los inputs sean números reales, y lo haremos forzando la division de los valores de dentro de las matrices 28x28 (que tienen valoress del 0 al 255) por 255.0 (un real)"
   ]
  },
  {
   "cell_type": "code",
   "execution_count": 8,
   "id": "b314e5c0",
   "metadata": {
    "execution": {
     "iopub.execute_input": "2022-03-04T10:55:21.670630Z",
     "iopub.status.busy": "2022-03-04T10:55:21.669808Z",
     "iopub.status.idle": "2022-03-04T10:55:30.176455Z",
     "shell.execute_reply": "2022-03-04T10:55:30.175887Z",
     "shell.execute_reply.started": "2022-03-04T10:42:52.435976Z"
    },
    "id": "9mZWEbQc9oJr",
    "outputId": "64bc1bf6-7fb2-48be-987e-2736f3b20387",
    "papermill": {
     "duration": 8.536528,
     "end_time": "2022-03-04T10:55:30.176589",
     "exception": false,
     "start_time": "2022-03-04T10:55:21.640061",
     "status": "completed"
    },
    "tags": []
   },
   "outputs": [
    {
     "name": "stdout",
     "output_type": "stream",
     "text": [
      "Downloading data from https://www.cs.toronto.edu/~kriz/cifar-10-python.tar.gz\n",
      "170500096/170498071 [==============================] - 6s 0us/step\n",
      "170508288/170498071 [==============================] - 6s 0us/step\n"
     ]
    }
   ],
   "source": [
    "cifar10 = ks.datasets.cifar10\n",
    "\n",
    "(x_train, y_train), (x_test, y_test) = cifar10.load_data()\n",
    "\n",
    "x_train_scaled, x_test_scaled = x_train / 255.0, x_test / 255.0"
   ]
  },
  {
   "cell_type": "code",
   "execution_count": 9,
   "id": "c23a1219",
   "metadata": {
    "execution": {
     "iopub.execute_input": "2022-03-04T10:55:30.270782Z",
     "iopub.status.busy": "2022-03-04T10:55:30.270131Z",
     "iopub.status.idle": "2022-03-04T10:55:30.272720Z",
     "shell.execute_reply": "2022-03-04T10:55:30.273123Z",
     "shell.execute_reply.started": "2022-03-04T10:42:53.478299Z"
    },
    "id": "j8A9za5z9oJr",
    "outputId": "888ee721-2747-4004-b1fe-ba260adcb5ff",
    "papermill": {
     "duration": 0.052515,
     "end_time": "2022-03-04T10:55:30.273246",
     "exception": false,
     "start_time": "2022-03-04T10:55:30.220731",
     "status": "completed"
    },
    "tags": []
   },
   "outputs": [
    {
     "data": {
      "text/plain": [
       "array([[6],\n",
       "       [9],\n",
       "       [9],\n",
       "       ...,\n",
       "       [9],\n",
       "       [1],\n",
       "       [1]], dtype=uint8)"
      ]
     },
     "execution_count": 9,
     "metadata": {},
     "output_type": "execute_result"
    }
   ],
   "source": [
    "y_train_label = y_train\n",
    "\n",
    "y_test\n",
    "y_train"
   ]
  },
  {
   "cell_type": "markdown",
   "id": "72109d18",
   "metadata": {
    "id": "bQf1GueY9oJs",
    "papermill": {
     "duration": 0.044515,
     "end_time": "2022-03-04T10:55:30.361885",
     "exception": false,
     "start_time": "2022-03-04T10:55:30.317370",
     "status": "completed"
    },
    "tags": []
   },
   "source": [
    "Obtenemos un array con todas las labels de CIFAR10"
   ]
  },
  {
   "cell_type": "code",
   "execution_count": 10,
   "id": "af5b85f9",
   "metadata": {
    "execution": {
     "iopub.execute_input": "2022-03-04T10:55:30.454150Z",
     "iopub.status.busy": "2022-03-04T10:55:30.453619Z",
     "iopub.status.idle": "2022-03-04T10:55:30.457155Z",
     "shell.execute_reply": "2022-03-04T10:55:30.456461Z",
     "shell.execute_reply.started": "2022-03-04T10:42:53.486411Z"
    },
    "id": "EJR1ydE99oJs",
    "outputId": "e5f31edc-08bb-444e-e033-6ddc80e901aa",
    "papermill": {
     "duration": 0.051248,
     "end_time": "2022-03-04T10:55:30.457305",
     "exception": false,
     "start_time": "2022-03-04T10:55:30.406057",
     "status": "completed"
    },
    "tags": []
   },
   "outputs": [
    {
     "name": "stdout",
     "output_type": "stream",
     "text": [
      "Number of labels: 10\n"
     ]
    }
   ],
   "source": [
    "cifar10_labels = [\n",
    "'airplane', # id 0\n",
    "'automobile',\n",
    "'bird',\n",
    "'cat',\n",
    "'deer',\n",
    "'dog',\n",
    "'frog',\n",
    "'horse',\n",
    "'ship',\n",
    "'truck',\n",
    "]\n",
    "\n",
    "print('Number of labels: %s' % len(cifar10_labels))"
   ]
  },
  {
   "cell_type": "markdown",
   "id": "c3b52c48",
   "metadata": {
    "id": "61GhgQs49oJs",
    "papermill": {
     "duration": 0.04434,
     "end_time": "2022-03-04T10:55:30.547330",
     "exception": false,
     "start_time": "2022-03-04T10:55:30.502990",
     "status": "completed"
    },
    "tags": []
   },
   "source": [
    "Pintemos una muestra de las imagenes del dataset CIFAR10, a ver si se parece en algo a lo que esperamos.\n",
    "Primero, vemos que tipos de datos tengo, después mapeamos esas matrices en una escala de grises utilizando el método **.get_cmap()** de PlotLy con los nueve primeros números del dataset."
   ]
  },
  {
   "cell_type": "code",
   "execution_count": 11,
   "id": "d19ac140",
   "metadata": {
    "execution": {
     "iopub.execute_input": "2022-03-04T10:55:30.642193Z",
     "iopub.status.busy": "2022-03-04T10:55:30.641430Z",
     "iopub.status.idle": "2022-03-04T10:55:31.250679Z",
     "shell.execute_reply": "2022-03-04T10:55:31.250205Z",
     "shell.execute_reply.started": "2022-03-04T10:42:53.494941Z"
    },
    "id": "9-Dk8dgQ9oJs",
    "outputId": "6cb615fb-b62e-4315-f474-c3c77c50e8b5",
    "papermill": {
     "duration": 0.659506,
     "end_time": "2022-03-04T10:55:31.250808",
     "exception": false,
     "start_time": "2022-03-04T10:55:30.591302",
     "status": "completed"
    },
    "tags": []
   },
   "outputs": [
    {
     "name": "stdout",
     "output_type": "stream",
     "text": [
      "Train: X=(50000, 32, 32, 3), y=(50000, 1)\n",
      "Test: X=(10000, 32, 32, 3), y=(10000, 1)\n"
     ]
    },
    {
     "data": {
      "image/png": "[encoded data removed]",
      "text/plain": [
       "<Figure size 432x288 with 9 Axes>"
      ]
     },
     "metadata": {
      "needs_background": "light"
     },
     "output_type": "display_data"
    }
   ],
   "source": [
    "# Pintemos una muestra de las las imagenes del dataset MNIST\n",
    "\n",
    "print('Train: X=%s, y=%s' % (x_train.shape, y_train.shape))\n",
    "print('Test: X=%s, y=%s' % (x_test.shape, y_test.shape))\n",
    "\n",
    "for i in range(9):\n",
    "\n",
    "    plt.subplot(330 + 1 + i)\n",
    "    plt.imshow(x_train[i], cmap=plt.get_cmap('gray'))\n",
    "    plt.title(cifar10_labels[y_train_label[i,0]])\n",
    "\n",
    "plt.subplots_adjust(hspace = 1)\n",
    "plt.show()"
   ]
  },
  {
   "cell_type": "markdown",
   "id": "d2b49d93",
   "metadata": {
    "id": "WRm5syYA9oJt",
    "papermill": {
     "duration": 0.046308,
     "end_time": "2022-03-04T10:55:31.343680",
     "exception": false,
     "start_time": "2022-03-04T10:55:31.297372",
     "status": "completed"
    },
    "tags": []
   },
   "source": [
    "Como vamos a querer ir haciendo validación a la vez que entrenamos (muy practico)"
   ]
  },
  {
   "cell_type": "code",
   "execution_count": 12,
   "id": "c8050238",
   "metadata": {
    "execution": {
     "iopub.execute_input": "2022-03-04T10:55:31.441717Z",
     "iopub.status.busy": "2022-03-04T10:55:31.440941Z",
     "iopub.status.idle": "2022-03-04T10:55:31.442838Z",
     "shell.execute_reply": "2022-03-04T10:55:31.443223Z",
     "shell.execute_reply.started": "2022-03-04T10:42:54.120826Z"
    },
    "id": "ll_ESZXN9oJt",
    "papermill": {
     "duration": 0.053212,
     "end_time": "2022-03-04T10:55:31.443390",
     "exception": false,
     "start_time": "2022-03-04T10:55:31.390178",
     "status": "completed"
    },
    "tags": []
   },
   "outputs": [],
   "source": [
    "x_val_scaled = x_train_scaled[-10000:]\n",
    "y_val = y_train[-10000:]\n",
    "\n",
    "x_train_scaled = x_train_scaled[:-10000]\n",
    "y_train = y_train[:-10000]\n"
   ]
  },
  {
   "cell_type": "markdown",
   "id": "716942b3",
   "metadata": {
    "id": "857gyhgz9oJt",
    "papermill": {
     "duration": 0.047097,
     "end_time": "2022-03-04T10:55:31.536975",
     "exception": false,
     "start_time": "2022-03-04T10:55:31.489878",
     "status": "completed"
    },
    "tags": []
   },
   "source": [
    "Cuando añadimos convoluciones, necesitamos \"pre-tratar los datos\", porque **la convolución espera una matriz de 4 campos** (más parecido a \"imagenes\"), en el caso de MNIST. CIFAR10 ya tiene el shape adecuado, así que no tenemos que hacer nada, pero como siempre decimos: es mejor que comprobeis su tamaño.\n",
    "\n",
    "Por eso, al salir de la Convolution, hay que hacer un Flatten, porque las capas FullDense esperan arrays, no matrices!!\n",
    "\n",
    "Luego lo imprimimos para ver que todo está correcto"
   ]
  },
  {
   "cell_type": "code",
   "execution_count": 13,
   "id": "f1995fde",
   "metadata": {
    "execution": {
     "iopub.execute_input": "2022-03-04T10:55:31.637974Z",
     "iopub.status.busy": "2022-03-04T10:55:31.637159Z",
     "iopub.status.idle": "2022-03-04T10:55:31.641261Z",
     "shell.execute_reply": "2022-03-04T10:55:31.640849Z",
     "shell.execute_reply.started": "2022-03-04T10:42:54.130059Z"
    },
    "id": "GsD9N7Jf9oJt",
    "outputId": "ea9825e0-1c5e-446d-9f37-1f06f7d8a476",
    "papermill": {
     "duration": 0.054678,
     "end_time": "2022-03-04T10:55:31.641387",
     "exception": false,
     "start_time": "2022-03-04T10:55:31.586709",
     "status": "completed"
    },
    "tags": []
   },
   "outputs": [
    {
     "name": "stdout",
     "output_type": "stream",
     "text": [
      "Train: X=(40000, 32, 32, 3), y=(40000, 1)\n",
      "Test: X=(10000, 32, 32, 3), y=(10000, 1)\n",
      "Validation: X=(10000, 32, 32, 3), y=(10000, 1)\n"
     ]
    }
   ],
   "source": [
    "# Validamos el resultado\n",
    "print('Train: X=%s, y=%s' % (x_train_scaled.shape, y_train.shape))\n",
    "print('Test: X=%s, y=%s' % (x_test_scaled.shape, y_test.shape))\n",
    "print('Validation: X=%s, y=%s' % (x_val_scaled.shape, y_val.shape))"
   ]
  },
  {
   "cell_type": "markdown",
   "id": "aec1ff61",
   "metadata": {
    "id": "x4CSQVcD9oJu",
    "papermill": {
     "duration": 0.047311,
     "end_time": "2022-03-04T10:55:31.736082",
     "exception": false,
     "start_time": "2022-03-04T10:55:31.688771",
     "status": "completed"
    },
    "tags": []
   },
   "source": [
    "## 5. Entrenamiento\n",
    "\n",
    "Ya podemos ponernos a entrenar el modelo!! Ojo, que hemos de entrenar contra los datos convertidos al formato que espera la Convolution.\n",
    "\n",
    "Empezaremos con 30 epocs, es decir, 30 pasadas completas del dataset (que a su vez sera con mini-batches internamente), fijando un batch de 64\n",
    "\n",
    "El metodo .fit() nos permite, definir además si disponemos de varias CPUs, GPUs, y si queremos ir validando datos a cada fin de epoch."
   ]
  },
  {
   "cell_type": "markdown",
   "id": "b2cae2db",
   "metadata": {
    "id": "4hjYmiIjwucd",
    "papermill": {
     "duration": 0.077906,
     "end_time": "2022-03-04T10:55:31.862717",
     "exception": false,
     "start_time": "2022-03-04T10:55:31.784811",
     "status": "completed"
    },
    "tags": []
   },
   "source": [
    "###Early Stopping Callback\n",
    "Añadimos un Early Stopping cuando el modelo ya no mejora\n"
   ]
  },
  {
   "cell_type": "code",
   "execution_count": 14,
   "id": "f146f3c0",
   "metadata": {
    "execution": {
     "iopub.execute_input": "2022-03-04T10:55:32.028169Z",
     "iopub.status.busy": "2022-03-04T10:55:32.027219Z",
     "iopub.status.idle": "2022-03-04T10:55:32.029678Z",
     "shell.execute_reply": "2022-03-04T10:55:32.028961Z",
     "shell.execute_reply.started": "2022-03-04T10:42:54.143335Z"
    },
    "id": "mPYxWLsfasN9",
    "papermill": {
     "duration": 0.088369,
     "end_time": "2022-03-04T10:55:32.029854",
     "exception": false,
     "start_time": "2022-03-04T10:55:31.941485",
     "status": "completed"
    },
    "tags": []
   },
   "outputs": [],
   "source": [
    "control_accuracy = EarlyStopping(monitor='val_accuracy', patience=5)\n",
    "\n",
    "# cuando la validación no mejora es cuando para\n"
   ]
  },
  {
   "cell_type": "code",
   "execution_count": 15,
   "id": "ea8d8019",
   "metadata": {
    "execution": {
     "iopub.execute_input": "2022-03-04T10:55:32.132487Z",
     "iopub.status.busy": "2022-03-04T10:55:32.131734Z",
     "iopub.status.idle": "2022-03-04T10:55:32.133679Z",
     "shell.execute_reply": "2022-03-04T10:55:32.134097Z",
     "shell.execute_reply.started": "2022-03-04T10:42:54.151027Z"
    },
    "id": "WVDxMUFK9oJu",
    "papermill": {
     "duration": 0.052457,
     "end_time": "2022-03-04T10:55:32.134224",
     "exception": false,
     "start_time": "2022-03-04T10:55:32.081767",
     "status": "completed"
    },
    "tags": []
   },
   "outputs": [],
   "source": [
    "t = time.perf_counter()"
   ]
  },
  {
   "cell_type": "code",
   "execution_count": 16,
   "id": "e176598f",
   "metadata": {
    "execution": {
     "iopub.execute_input": "2022-03-04T10:55:32.231379Z",
     "iopub.status.busy": "2022-03-04T10:55:32.230858Z",
     "iopub.status.idle": "2022-03-04T11:00:38.759444Z",
     "shell.execute_reply": "2022-03-04T11:00:38.758902Z",
     "shell.execute_reply.started": "2022-03-04T10:42:54.159956Z"
    },
    "id": "ecp-nOVj9oJu",
    "outputId": "a9799545-6b66-48b4-ced9-dbaedc03d83c",
    "papermill": {
     "duration": 306.57869,
     "end_time": "2022-03-04T11:00:38.759585",
     "exception": false,
     "start_time": "2022-03-04T10:55:32.180895",
     "status": "completed"
    },
    "tags": []
   },
   "outputs": [
    {
     "name": "stderr",
     "output_type": "stream",
     "text": [
      "2022-03-04 10:55:33.411244: I tensorflow/compiler/mlir/mlir_graph_optimization_pass.cc:185] None of the MLIR Optimization Passes are enabled (registered 2)\n"
     ]
    },
    {
     "name": "stdout",
     "output_type": "stream",
     "text": [
      "Epoch 1/1250\n"
     ]
    },
    {
     "name": "stderr",
     "output_type": "stream",
     "text": [
      "2022-03-04 10:55:35.278680: I tensorflow/stream_executor/cuda/cuda_dnn.cc:369] Loaded cuDNN version 8005\n"
     ]
    },
    {
     "name": "stdout",
     "output_type": "stream",
     "text": [
      "1250/1250 [==============================] - 15s 7ms/step - loss: 2.0198 - accuracy: 0.2596 - val_loss: 2.7205 - val_accuracy: 0.1887\n",
      "Epoch 2/1250\n",
      "1250/1250 [==============================] - 7s 6ms/step - loss: 1.5338 - accuracy: 0.4353 - val_loss: 1.5609 - val_accuracy: 0.4416\n",
      "Epoch 3/1250\n",
      "1250/1250 [==============================] - 8s 6ms/step - loss: 1.2878 - accuracy: 0.5334 - val_loss: 1.3138 - val_accuracy: 0.5413\n",
      "Epoch 4/1250\n",
      "1250/1250 [==============================] - 8s 6ms/step - loss: 1.1270 - accuracy: 0.6001 - val_loss: 1.0318 - val_accuracy: 0.6292\n",
      "Epoch 5/1250\n",
      "1250/1250 [==============================] - 8s 6ms/step - loss: 0.9977 - accuracy: 0.6468 - val_loss: 0.8672 - val_accuracy: 0.6907\n",
      "Epoch 6/1250\n",
      "1250/1250 [==============================] - 8s 6ms/step - loss: 0.9028 - accuracy: 0.6845 - val_loss: 0.7655 - val_accuracy: 0.7292\n",
      "Epoch 7/1250\n",
      "1250/1250 [==============================] - 8s 6ms/step - loss: 0.8401 - accuracy: 0.7054 - val_loss: 0.7576 - val_accuracy: 0.7401\n",
      "Epoch 8/1250\n",
      "1250/1250 [==============================] - 8s 6ms/step - loss: 0.7838 - accuracy: 0.7281 - val_loss: 0.7993 - val_accuracy: 0.7278\n",
      "Epoch 9/1250\n",
      "1250/1250 [==============================] - 7s 6ms/step - loss: 0.7367 - accuracy: 0.7436 - val_loss: 0.7622 - val_accuracy: 0.7423\n",
      "Epoch 10/1250\n",
      "1250/1250 [==============================] - 8s 7ms/step - loss: 0.6987 - accuracy: 0.7582 - val_loss: 0.6182 - val_accuracy: 0.7898\n",
      "Epoch 11/1250\n",
      "1250/1250 [==============================] - 8s 6ms/step - loss: 0.6644 - accuracy: 0.7691 - val_loss: 0.6384 - val_accuracy: 0.7789\n",
      "Epoch 12/1250\n",
      "1250/1250 [==============================] - 7s 6ms/step - loss: 0.6342 - accuracy: 0.7788 - val_loss: 0.5913 - val_accuracy: 0.7969\n",
      "Epoch 13/1250\n",
      "1250/1250 [==============================] - 7s 6ms/step - loss: 0.6076 - accuracy: 0.7908 - val_loss: 0.5846 - val_accuracy: 0.8009\n",
      "Epoch 14/1250\n",
      "1250/1250 [==============================] - 8s 6ms/step - loss: 0.5848 - accuracy: 0.7980 - val_loss: 0.6009 - val_accuracy: 0.7953\n",
      "Epoch 15/1250\n",
      "1250/1250 [==============================] - 8s 7ms/step - loss: 0.5651 - accuracy: 0.8034 - val_loss: 0.5680 - val_accuracy: 0.8065\n",
      "Epoch 16/1250\n",
      "1250/1250 [==============================] - 8s 6ms/step - loss: 0.5456 - accuracy: 0.8106 - val_loss: 0.5514 - val_accuracy: 0.8125\n",
      "Epoch 17/1250\n",
      "1250/1250 [==============================] - 7s 6ms/step - loss: 0.5251 - accuracy: 0.8169 - val_loss: 0.5420 - val_accuracy: 0.8167\n",
      "Epoch 18/1250\n",
      "1250/1250 [==============================] - 8s 6ms/step - loss: 0.5095 - accuracy: 0.8228 - val_loss: 0.5548 - val_accuracy: 0.8131\n",
      "Epoch 19/1250\n",
      "1250/1250 [==============================] - 8s 6ms/step - loss: 0.4966 - accuracy: 0.8274 - val_loss: 0.5382 - val_accuracy: 0.8181\n",
      "Epoch 20/1250\n",
      "1250/1250 [==============================] - 8s 6ms/step - loss: 0.4821 - accuracy: 0.8327 - val_loss: 0.6012 - val_accuracy: 0.8019\n",
      "Epoch 21/1250\n",
      "1250/1250 [==============================] - 8s 6ms/step - loss: 0.4744 - accuracy: 0.8357 - val_loss: 0.5219 - val_accuracy: 0.8220\n",
      "Epoch 22/1250\n",
      "1250/1250 [==============================] - 7s 6ms/step - loss: 0.4571 - accuracy: 0.8397 - val_loss: 0.5146 - val_accuracy: 0.8267\n",
      "Epoch 23/1250\n",
      "1250/1250 [==============================] - 9s 7ms/step - loss: 0.4422 - accuracy: 0.8459 - val_loss: 0.5076 - val_accuracy: 0.8279\n",
      "Epoch 24/1250\n",
      "1250/1250 [==============================] - 8s 6ms/step - loss: 0.4322 - accuracy: 0.8483 - val_loss: 0.5384 - val_accuracy: 0.8190\n",
      "Epoch 25/1250\n",
      "1250/1250 [==============================] - 8s 6ms/step - loss: 0.4288 - accuracy: 0.8497 - val_loss: 0.5221 - val_accuracy: 0.8265\n",
      "Epoch 26/1250\n",
      "1250/1250 [==============================] - 8s 6ms/step - loss: 0.4139 - accuracy: 0.8558 - val_loss: 0.5580 - val_accuracy: 0.8155\n",
      "Epoch 27/1250\n",
      "1250/1250 [==============================] - 9s 7ms/step - loss: 0.4018 - accuracy: 0.8597 - val_loss: 0.5014 - val_accuracy: 0.8346\n",
      "Epoch 28/1250\n",
      "1250/1250 [==============================] - 8s 6ms/step - loss: 0.3894 - accuracy: 0.8637 - val_loss: 0.4912 - val_accuracy: 0.8359\n",
      "Epoch 29/1250\n",
      "1250/1250 [==============================] - 8s 6ms/step - loss: 0.3899 - accuracy: 0.8629 - val_loss: 0.4790 - val_accuracy: 0.8433\n",
      "Epoch 30/1250\n",
      "1250/1250 [==============================] - 8s 6ms/step - loss: 0.3773 - accuracy: 0.8666 - val_loss: 0.5274 - val_accuracy: 0.8333\n",
      "Epoch 31/1250\n",
      "1250/1250 [==============================] - 9s 7ms/step - loss: 0.3677 - accuracy: 0.8697 - val_loss: 0.5118 - val_accuracy: 0.8345\n",
      "Epoch 32/1250\n",
      "1250/1250 [==============================] - 8s 6ms/step - loss: 0.3596 - accuracy: 0.8748 - val_loss: 0.5477 - val_accuracy: 0.8266\n",
      "Epoch 33/1250\n",
      "1250/1250 [==============================] - 7s 6ms/step - loss: 0.3566 - accuracy: 0.8738 - val_loss: 0.4819 - val_accuracy: 0.8439\n",
      "Epoch 34/1250\n",
      "1250/1250 [==============================] - 8s 7ms/step - loss: 0.3495 - accuracy: 0.8772 - val_loss: 0.4813 - val_accuracy: 0.8437\n",
      "Epoch 35/1250\n",
      "1250/1250 [==============================] - 9s 7ms/step - loss: 0.3453 - accuracy: 0.8773 - val_loss: 0.4805 - val_accuracy: 0.8429\n",
      "Epoch 36/1250\n",
      "1250/1250 [==============================] - 7s 6ms/step - loss: 0.3362 - accuracy: 0.8805 - val_loss: 0.4992 - val_accuracy: 0.8370\n",
      "Epoch 37/1250\n",
      "1250/1250 [==============================] - 8s 6ms/step - loss: 0.3298 - accuracy: 0.8829 - val_loss: 0.4861 - val_accuracy: 0.8436\n",
      "Epoch 38/1250\n",
      "1250/1250 [==============================] - 8s 7ms/step - loss: 0.3178 - accuracy: 0.8877 - val_loss: 0.5429 - val_accuracy: 0.8284\n"
     ]
    }
   ],
   "source": [
    "history = model.fit(x_train_scaled, y_train, epochs= 1250, \n",
    "                    use_multiprocessing=False, batch_size= 32, \n",
    "                    validation_data=(x_val_scaled, y_val),\n",
    "                    callbacks=[control_accuracy])"
   ]
  },
  {
   "cell_type": "code",
   "execution_count": 17,
   "id": "d628b2bc",
   "metadata": {
    "execution": {
     "iopub.execute_input": "2022-03-04T11:00:41.456083Z",
     "iopub.status.busy": "2022-03-04T11:00:41.454499Z",
     "iopub.status.idle": "2022-03-04T11:00:41.458463Z",
     "shell.execute_reply": "2022-03-04T11:00:41.457772Z",
     "shell.execute_reply.started": "2022-03-04T10:48:29.485128Z"
    },
    "id": "OPFPUNcJ9oJu",
    "papermill": {
     "duration": 1.362226,
     "end_time": "2022-03-04T11:00:41.458646",
     "exception": false,
     "start_time": "2022-03-04T11:00:40.096420",
     "status": "completed"
    },
    "tags": []
   },
   "outputs": [
    {
     "name": "stdout",
     "output_type": "stream",
     "text": [
      "Tiempo de entrenamiento: 0:05:09.321758\n"
     ]
    }
   ],
   "source": [
    "elapsed_time = datetime.timedelta(seconds=(time.perf_counter() - t))\n",
    "\n",
    "print('Tiempo de entrenamiento:', elapsed_time)"
   ]
  },
  {
   "cell_type": "markdown",
   "id": "49bec3ae",
   "metadata": {
    "id": "n6Byf3JG9oJu",
    "papermill": {
     "duration": 1.873263,
     "end_time": "2022-03-04T11:00:44.687582",
     "exception": false,
     "start_time": "2022-03-04T11:00:42.814319",
     "status": "completed"
    },
    "tags": []
   },
   "source": [
    "## 6. Evaluamos los resultados\n",
    "\n",
    "Obtengamos una grafica de como el error y la accuracy van evolucionando en cada epoch en los datos de entrenamiento y en la validación"
   ]
  },
  {
   "cell_type": "code",
   "execution_count": 18,
   "id": "15c48234",
   "metadata": {
    "execution": {
     "iopub.execute_input": "2022-03-04T11:00:47.644688Z",
     "iopub.status.busy": "2022-03-04T11:00:47.643845Z",
     "iopub.status.idle": "2022-03-04T11:00:49.229224Z",
     "shell.execute_reply": "2022-03-04T11:00:49.229699Z",
     "shell.execute_reply.started": "2022-03-04T10:48:29.492419Z"
    },
    "id": "j9IaZ3-W9oJv",
    "papermill": {
     "duration": 2.94102,
     "end_time": "2022-03-04T11:00:49.229852",
     "exception": false,
     "start_time": "2022-03-04T11:00:46.288832",
     "status": "completed"
    },
    "tags": []
   },
   "outputs": [
    {
     "name": "stdout",
     "output_type": "stream",
     "text": [
      "> 82.720\n"
     ]
    }
   ],
   "source": [
    "_, acc = model.evaluate(x_test_scaled, y_test, verbose=0)\n",
    "print('> %.3f' % (acc * 100.0))"
   ]
  },
  {
   "cell_type": "code",
   "execution_count": 19,
   "id": "bcb70d5a",
   "metadata": {
    "execution": {
     "iopub.execute_input": "2022-03-04T11:00:51.961036Z",
     "iopub.status.busy": "2022-03-04T11:00:51.950269Z",
     "iopub.status.idle": "2022-03-04T11:00:52.311451Z",
     "shell.execute_reply": "2022-03-04T11:00:52.310937Z",
     "shell.execute_reply.started": "2022-03-04T10:49:19.030634Z"
    },
    "id": "GrH8OFmF9oJv",
    "papermill": {
     "duration": 1.734716,
     "end_time": "2022-03-04T11:00:52.311582",
     "exception": false,
     "start_time": "2022-03-04T11:00:50.576866",
     "status": "completed"
    },
    "tags": []
   },
   "outputs": [
    {
     "data": {
      "image/png": "[encoded data removed]",
      "text/plain": [
       "<Figure size 432x288 with 1 Axes>"
      ]
     },
     "metadata": {
      "needs_background": "light"
     },
     "output_type": "display_data"
    },
    {
     "data": {
      "image/png": "[encoded data removed]",
      "text/plain": [
       "<Figure size 432x288 with 1 Axes>"
      ]
     },
     "metadata": {
      "needs_background": "light"
     },
     "output_type": "display_data"
    }
   ],
   "source": [
    "plt.title('Cross Entropy Loss')\n",
    "plt.plot(history.history['loss'], color='blue', label='train')\n",
    "plt.plot(history.history['val_loss'], color='orange', label='val')\n",
    "plt.legend()\n",
    "plt.show()\n",
    "\n",
    "plt.title('Classification Accuracy')\n",
    "plt.plot(history.history['accuracy'], color='blue', label='train')\n",
    "plt.plot(history.history['val_accuracy'], color='orange', label='val')\n",
    "plt.legend()\n",
    "plt.show()"
   ]
  },
  {
   "cell_type": "markdown",
   "id": "b64f401f",
   "metadata": {
    "id": "BT7Xpz409oJv",
    "papermill": {
     "duration": 1.393449,
     "end_time": "2022-03-04T11:00:55.106036",
     "exception": false,
     "start_time": "2022-03-04T11:00:53.712587",
     "status": "completed"
    },
    "tags": []
   },
   "source": [
    "El coste podemos ver que es estable y es en el epoch 15 que se fija en un valor. Además la accuracy baila alrededor de 0.10. No se puede decir que sea un modelo muy bueno.\n",
    "\n",
    "Veamos que tipo de predicciones estoy obteniendo sobre el conjunto de test (vamos a pintar las imagenes y sus clasificaciones)"
   ]
  },
  {
   "cell_type": "code",
   "execution_count": 20,
   "id": "aeea630a",
   "metadata": {
    "execution": {
     "iopub.execute_input": "2022-03-04T11:00:58.114699Z",
     "iopub.status.busy": "2022-03-04T11:00:58.113934Z",
     "iopub.status.idle": "2022-03-04T11:00:58.979452Z",
     "shell.execute_reply": "2022-03-04T11:00:58.978946Z",
     "shell.execute_reply.started": "2022-03-04T10:49:19.414767Z"
    },
    "id": "G4gqi32X9oJw",
    "papermill": {
     "duration": 2.52889,
     "end_time": "2022-03-04T11:00:58.979594",
     "exception": false,
     "start_time": "2022-03-04T11:00:56.450704",
     "status": "completed"
    },
    "tags": []
   },
   "outputs": [],
   "source": [
    "predictions = model.predict(x_test)"
   ]
  },
  {
   "cell_type": "markdown",
   "id": "543ee646",
   "metadata": {
    "id": "3blmpM1k9oJw",
    "papermill": {
     "duration": 1.347237,
     "end_time": "2022-03-04T11:01:01.770481",
     "exception": false,
     "start_time": "2022-03-04T11:01:00.423244",
     "status": "completed"
    },
    "tags": []
   },
   "source": [
    "Una de las ventajas de Python es que hay montones de funciones y código realizado por terceras personas. Aquí me he fusilado unas bonitas funciones (que he adaptado un poco a mis necesidades) para poder pintar las imagenes, su label (ground truth) y las clasificaciones que hemos realizado."
   ]
  },
  {
   "cell_type": "code",
   "execution_count": 21,
   "id": "a05d421e",
   "metadata": {
    "execution": {
     "iopub.execute_input": "2022-03-04T11:01:04.509014Z",
     "iopub.status.busy": "2022-03-04T11:01:04.508169Z",
     "iopub.status.idle": "2022-03-04T11:01:04.510203Z",
     "shell.execute_reply": "2022-03-04T11:01:04.510603Z",
     "shell.execute_reply.started": "2022-03-04T10:49:20.349233Z"
    },
    "id": "P02wctIA9oJw",
    "papermill": {
     "duration": 1.373653,
     "end_time": "2022-03-04T11:01:04.510740",
     "exception": false,
     "start_time": "2022-03-04T11:01:03.137087",
     "status": "completed"
    },
    "tags": []
   },
   "outputs": [],
   "source": [
    "def plot_image(i, predictions_array, true_label, img):\n",
    "  predictions_array, true_label, img = predictions_array, true_label[i], img[i]\n",
    "  plt.grid(False)\n",
    "  plt.xticks([])\n",
    "  plt.yticks([])\n",
    "\n",
    "  plt.imshow(img, cmap=plt.cm.binary)\n",
    "\n",
    "  predicted_label = np.argmax(predictions_array)\n",
    "  if predicted_label == true_label:\n",
    "    color = 'blue'\n",
    "  else:\n",
    "    color = 'red'\n",
    "\n",
    "  plt.xlabel(\"{} {:2.0f}% ({})\".format(predicted_label,\n",
    "                                100*np.max(predictions_array),\n",
    "                                true_label[0]),\n",
    "                                color=color)\n",
    "\n",
    "def plot_value_array(i, predictions_array, true_label):\n",
    "  predictions_array, true_label = predictions_array, true_label[i]\n",
    "  plt.grid(False)\n",
    "  plt.xticks(range(10))\n",
    "  plt.yticks([])\n",
    "  thisplot = plt.bar(range(10), predictions_array, color=\"#777777\")\n",
    "  plt.ylim([0, 1])\n",
    "  predicted_label = np.argmax(predictions_array)\n",
    "\n",
    "  thisplot[predicted_label].set_color('red')\n",
    "  thisplot[true_label[0]].set_color('blue')"
   ]
  },
  {
   "cell_type": "markdown",
   "id": "d199b608",
   "metadata": {
    "id": "kCoAXQ6e9oJw",
    "papermill": {
     "duration": 1.39074,
     "end_time": "2022-03-04T11:01:07.298059",
     "exception": false,
     "start_time": "2022-03-04T11:01:05.907319",
     "status": "completed"
    },
    "tags": []
   },
   "source": [
    "Dibujamos las primeras imagenes, con las predicciones y sus valores reales (un total de 20 imagenes, para no abusar de vuestros laptops)\n",
    "\n",
    "Coloreamos las prediciones correctas en azul y los fallos en rojo. Aunque primero he impreso las etiquetas para que tengamos una referencia al grafico."
   ]
  },
  {
   "cell_type": "code",
   "execution_count": 22,
   "id": "d12b6333",
   "metadata": {
    "execution": {
     "iopub.execute_input": "2022-03-04T11:01:10.284960Z",
     "iopub.status.busy": "2022-03-04T11:01:10.269564Z",
     "iopub.status.idle": "2022-03-04T11:01:12.866307Z",
     "shell.execute_reply": "2022-03-04T11:01:12.866716Z",
     "shell.execute_reply.started": "2022-03-04T10:49:20.368479Z"
    },
    "id": "4jcGyOkV9oJx",
    "papermill": {
     "duration": 3.965263,
     "end_time": "2022-03-04T11:01:12.866861",
     "exception": false,
     "start_time": "2022-03-04T11:01:08.901598",
     "status": "completed"
    },
    "tags": []
   },
   "outputs": [
    {
     "name": "stdout",
     "output_type": "stream",
     "text": [
      "0 airplane\n",
      "1 automobile\n",
      "2 bird\n",
      "3 cat\n",
      "4 deer\n",
      "5 dog\n",
      "6 frog\n",
      "7 horse\n",
      "8 ship\n",
      "9 truck\n"
     ]
    },
    {
     "data": {
      "image/png": "[encoded data removed]",
      "text/plain": [
       "<Figure size 1152x720 with 40 Axes>"
      ]
     },
     "metadata": {
      "needs_background": "light"
     },
     "output_type": "display_data"
    }
   ],
   "source": [
    "i = 0\n",
    "for l in cifar10_labels:\n",
    "    print(i, l)\n",
    "    i += 1\n",
    "\n",
    "num_rows = 5\n",
    "num_cols = 4\n",
    "start = 650\n",
    "num_images = num_rows*num_cols\n",
    "plt.figure(figsize=(2*2*num_cols, 2*num_rows))\n",
    "for i in range(num_images):\n",
    "  plt.subplot(num_rows, 2*num_cols, 2*i+1)\n",
    "  plot_image(i+start, predictions[i+start], y_test, x_test)\n",
    "  plt.subplot(num_rows, 2*num_cols, 2*i+2)\n",
    "  plot_value_array(i+start, predictions[i+start], y_test)\n",
    "plt.tight_layout()\n",
    "plt.show()"
   ]
  },
  {
   "cell_type": "markdown",
   "id": "3e3d2468",
   "metadata": {
    "id": "qWT3tPd2-MOP",
    "papermill": {
     "duration": 1.368029,
     "end_time": "2022-03-04T11:01:15.590541",
     "exception": false,
     "start_time": "2022-03-04T11:01:14.222512",
     "status": "completed"
    },
    "tags": []
   },
   "source": [
    "## 7. Guardamos el modelo para futuras evaluaciones\n",
    "\n",
    "Id cambiando los nombres del archivo para ir guardando los diversos proyectos.\n",
    "Aquí lo guardamos en \"local\", pero recordad que lo ideal es que lo guardeis en Google Drive (teneis que montar la unidad, fijar la ruta y allí guardar el modelo .h5)"
   ]
  },
  {
   "cell_type": "code",
   "execution_count": 23,
   "id": "715f159f",
   "metadata": {
    "execution": {
     "iopub.execute_input": "2022-03-04T11:01:19.151583Z",
     "iopub.status.busy": "2022-03-04T11:01:19.150692Z",
     "iopub.status.idle": "2022-03-04T11:01:19.263232Z",
     "shell.execute_reply": "2022-03-04T11:01:19.262657Z",
     "shell.execute_reply.started": "2022-03-04T10:49:23.121099Z"
    },
    "id": "wEaRpWif9oJx",
    "papermill": {
     "duration": 1.710462,
     "end_time": "2022-03-04T11:01:19.263390",
     "exception": false,
     "start_time": "2022-03-04T11:01:17.552928",
     "status": "completed"
    },
    "tags": []
   },
   "outputs": [],
   "source": [
    "ruta_googledrive = \"/content/drive/MyDrive/\" # A revisar en vuestra instancia\n",
    "\n",
    "model.save(ruta_googledrive+'cifar10_base_model.h5')"
   ]
  },
  {
   "cell_type": "code",
   "execution_count": null,
   "id": "d14e2c6f",
   "metadata": {
    "id": "ER6y4Lz8iCTO",
    "papermill": {
     "duration": 1.4076,
     "end_time": "2022-03-04T11:01:22.036462",
     "exception": false,
     "start_time": "2022-03-04T11:01:20.628862",
     "status": "completed"
    },
    "tags": []
   },
   "outputs": [],
   "source": []
  },
  {
   "cell_type": "code",
   "execution_count": null,
   "id": "c1e7f417",
   "metadata": {
    "papermill": {
     "duration": 1.351098,
     "end_time": "2022-03-04T11:01:24.728395",
     "exception": false,
     "start_time": "2022-03-04T11:01:23.377297",
     "status": "completed"
    },
    "tags": []
   },
   "outputs": [],
   "source": []
  },
  {
   "cell_type": "code",
   "execution_count": null,
   "id": "d7dee590",
   "metadata": {
    "papermill": {
     "duration": 1.365858,
     "end_time": "2022-03-04T11:01:27.557046",
     "exception": false,
     "start_time": "2022-03-04T11:01:26.191188",
     "status": "completed"
    },
    "tags": []
   },
   "outputs": [],
   "source": []
  }
 ],
 "metadata": {
  "kernelspec": {
   "display_name": "Python 3",
   "language": "python",
   "name": "python3"
  },
  "language_info": {
   "codemirror_mode": {
    "name": "ipython",
    "version": 3
   },
   "file_extension": ".py",
   "mimetype": "text/x-python",
   "name": "python",
   "nbconvert_exporter": "python",
   "pygments_lexer": "ipython3",
   "version": "3.7.12"
  },
  "papermill": {
   "default_parameters": {},
   "duration": 387.170637,
   "end_time": "2022-03-04T11:01:32.310740",
   "environment_variables": {},
   "exception": null,
   "input_path": "__notebook__.ipynb",
   "output_path": "__notebook__.ipynb",
   "parameters": {},
   "start_time": "2022-03-04T10:55:05.140103",
   "version": "2.3.3"
  }
 },
 "nbformat": 4,
 "nbformat_minor": 5
}
