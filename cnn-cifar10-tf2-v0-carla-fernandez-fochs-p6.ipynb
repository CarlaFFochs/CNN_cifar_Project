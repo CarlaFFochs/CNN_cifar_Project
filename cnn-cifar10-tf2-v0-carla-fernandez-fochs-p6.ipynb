{
 "cells": [
  {
   "cell_type": "markdown",
   "id": "da0a7c09",
   "metadata": {
    "id": "dWY7kSPW9oJm",
    "papermill": {
     "duration": 0.041519,
     "end_time": "2022-03-09T11:03:06.348629",
     "exception": false,
     "start_time": "2022-03-09T11:03:06.307110",
     "status": "completed"
    },
    "tags": []
   },
   "source": [
    "![Nuclio logo](https://nuclio.school/wp-content/uploads/2018/12/nucleoDS-newBlack.png)"
   ]
  },
  {
   "cell_type": "markdown",
   "id": "2486fd67",
   "metadata": {
    "id": "e5awq5ZU9oJn",
    "papermill": {
     "duration": 0.039013,
     "end_time": "2022-03-09T11:03:06.428923",
     "exception": false,
     "start_time": "2022-03-09T11:03:06.389910",
     "status": "completed"
    },
    "tags": []
   },
   "source": [
    "## 1. Librerias & Google Drive\n",
    "\n",
    "Para empezar carguemos esas librerias que nos hacen falta"
   ]
  },
  {
   "cell_type": "code",
   "execution_count": 1,
   "id": "56155a40",
   "metadata": {
    "execution": {
     "iopub.execute_input": "2022-03-09T11:03:06.526445Z",
     "iopub.status.busy": "2022-03-09T11:03:06.525368Z",
     "iopub.status.idle": "2022-03-09T11:03:12.964759Z",
     "shell.execute_reply": "2022-03-09T11:03:12.965276Z",
     "shell.execute_reply.started": "2022-03-09T10:57:16.024974Z"
    },
    "id": "6e89W2u_9oJo",
    "papermill": {
     "duration": 6.496846,
     "end_time": "2022-03-09T11:03:12.965684",
     "exception": false,
     "start_time": "2022-03-09T11:03:06.468838",
     "status": "completed"
    },
    "tags": []
   },
   "outputs": [],
   "source": [
    "from tensorflow import keras as ks\n",
    "from matplotlib import pyplot as plt\n",
    "import numpy as np\n",
    "import time\n",
    "import datetime\n",
    "from tensorflow.keras.callbacks import EarlyStopping\n",
    "from keras.layers import Dense, Dropout, Activation, Flatten, BatchNormalization\n",
    "from tensorflow.keras.optimizers import Adam\n",
    "import tensorflow as tf\n",
    "from keras.callbacks import LearningRateScheduler\n",
    "\n",
    "from tensorflow.keras.applications import vgg16"
   ]
  },
  {
   "cell_type": "markdown",
   "id": "0bed2ecc",
   "metadata": {
    "id": "G9YqEs4v-hiO",
    "papermill": {
     "duration": 0.032017,
     "end_time": "2022-03-09T11:03:13.030714",
     "exception": false,
     "start_time": "2022-03-09T11:03:12.998697",
     "status": "completed"
    },
    "tags": []
   },
   "source": [
    "Incorporamos la carpeta de Google Drive para poder \"guardar\" nuestros modelos\n",
    "\n",
    "1. Abrir barra lateral de Carpeta\n",
    "2.  Hacer click en carpeta con logo de Google Drive\n"
   ]
  },
  {
   "cell_type": "code",
   "execution_count": 2,
   "id": "58185752",
   "metadata": {
    "execution": {
     "iopub.execute_input": "2022-03-09T11:03:13.099745Z",
     "iopub.status.busy": "2022-03-09T11:03:13.099059Z",
     "iopub.status.idle": "2022-03-09T11:03:13.103729Z",
     "shell.execute_reply": "2022-03-09T11:03:13.103161Z",
     "shell.execute_reply.started": "2022-03-09T10:57:16.036383Z"
    },
    "id": "DH4FxJRv_KLM",
    "papermill": {
     "duration": 0.040989,
     "end_time": "2022-03-09T11:03:13.103872",
     "exception": false,
     "start_time": "2022-03-09T11:03:13.062883",
     "status": "completed"
    },
    "tags": []
   },
   "outputs": [],
   "source": [
    "# Aquí iria el codigo para conectarse a Google Drive\n",
    "#from google.colab import drive\n",
    "#drive._mount('/content/drive')"
   ]
  },
  {
   "cell_type": "markdown",
   "id": "44f9be8f",
   "metadata": {
    "id": "6_dptlpJ9oJp",
    "papermill": {
     "duration": 0.032356,
     "end_time": "2022-03-09T11:03:13.170502",
     "exception": false,
     "start_time": "2022-03-09T11:03:13.138146",
     "status": "completed"
    },
    "tags": []
   },
   "source": [
    "## 2. Arquitectura de red del modelo - Proyecto 0\n"
   ]
  },
  {
   "cell_type": "markdown",
   "id": "60f64759",
   "metadata": {
    "id": "XrqPjPhLee5X",
    "papermill": {
     "duration": 0.034101,
     "end_time": "2022-03-09T11:03:13.237656",
     "exception": false,
     "start_time": "2022-03-09T11:03:13.203555",
     "status": "completed"
    },
    "tags": []
   },
   "source": [
    "* input_shape=(32,32,3) : 3 son los colores RGB\n",
    "* imagen resultante y original tengan el mismo tamaño --> padding\n",
    "* strides > 1 --> imagenes resultantes más pequeñas (podemos reducir la cantidad de datos a procesar)\n",
    "* Max pooling : extraer la información más representativa de los bloques. Permite reducir la cantidad de datos entre una capa y otra, pero preservando la información más relevante. Valor máximo.\n"
   ]
  },
  {
   "cell_type": "code",
   "execution_count": 3,
   "id": "ae96e594",
   "metadata": {
    "execution": {
     "iopub.execute_input": "2022-03-09T11:03:13.327571Z",
     "iopub.status.busy": "2022-03-09T11:03:13.326553Z",
     "iopub.status.idle": "2022-03-09T11:03:16.875761Z",
     "shell.execute_reply": "2022-03-09T11:03:16.875135Z",
     "shell.execute_reply.started": "2022-03-09T10:57:16.045606Z"
    },
    "id": "JoDemzDV9oJp",
    "papermill": {
     "duration": 3.603316,
     "end_time": "2022-03-09T11:03:16.875920",
     "exception": false,
     "start_time": "2022-03-09T11:03:13.272604",
     "status": "completed"
    },
    "tags": []
   },
   "outputs": [
    {
     "name": "stderr",
     "output_type": "stream",
     "text": [
      "2022-03-09 11:03:13.410204: I tensorflow/stream_executor/cuda/cuda_gpu_executor.cc:937] successful NUMA node read from SysFS had negative value (-1), but there must be at least one NUMA node, so returning NUMA node zero\n",
      "2022-03-09 11:03:13.563143: I tensorflow/stream_executor/cuda/cuda_gpu_executor.cc:937] successful NUMA node read from SysFS had negative value (-1), but there must be at least one NUMA node, so returning NUMA node zero\n",
      "2022-03-09 11:03:13.564288: I tensorflow/stream_executor/cuda/cuda_gpu_executor.cc:937] successful NUMA node read from SysFS had negative value (-1), but there must be at least one NUMA node, so returning NUMA node zero\n",
      "2022-03-09 11:03:13.565966: I tensorflow/core/platform/cpu_feature_guard.cc:142] This TensorFlow binary is optimized with oneAPI Deep Neural Network Library (oneDNN) to use the following CPU instructions in performance-critical operations:  AVX2 FMA\n",
      "To enable them in other operations, rebuild TensorFlow with the appropriate compiler flags.\n",
      "2022-03-09 11:03:13.572267: I tensorflow/stream_executor/cuda/cuda_gpu_executor.cc:937] successful NUMA node read from SysFS had negative value (-1), but there must be at least one NUMA node, so returning NUMA node zero\n",
      "2022-03-09 11:03:13.573334: I tensorflow/stream_executor/cuda/cuda_gpu_executor.cc:937] successful NUMA node read from SysFS had negative value (-1), but there must be at least one NUMA node, so returning NUMA node zero\n",
      "2022-03-09 11:03:13.574335: I tensorflow/stream_executor/cuda/cuda_gpu_executor.cc:937] successful NUMA node read from SysFS had negative value (-1), but there must be at least one NUMA node, so returning NUMA node zero\n",
      "2022-03-09 11:03:16.112639: I tensorflow/stream_executor/cuda/cuda_gpu_executor.cc:937] successful NUMA node read from SysFS had negative value (-1), but there must be at least one NUMA node, so returning NUMA node zero\n",
      "2022-03-09 11:03:16.114160: I tensorflow/stream_executor/cuda/cuda_gpu_executor.cc:937] successful NUMA node read from SysFS had negative value (-1), but there must be at least one NUMA node, so returning NUMA node zero\n",
      "2022-03-09 11:03:16.115594: I tensorflow/stream_executor/cuda/cuda_gpu_executor.cc:937] successful NUMA node read from SysFS had negative value (-1), but there must be at least one NUMA node, so returning NUMA node zero\n",
      "2022-03-09 11:03:16.116895: I tensorflow/core/common_runtime/gpu/gpu_device.cc:1510] Created device /job:localhost/replica:0/task:0/device:GPU:0 with 15403 MB memory:  -> device: 0, name: Tesla P100-PCIE-16GB, pci bus id: 0000:00:04.0, compute capability: 6.0\n"
     ]
    }
   ],
   "source": [
    "model = ks.Sequential()\n",
    "\n",
    "# CAPAS CONVOLUCIONALES: EXTRACCIÓN DE CARACTERÍSTICAS\n",
    "model.add(ks.layers.Conv2D(32, (3, 3), strides=1, activation='relu', \n",
    "                           padding='same', input_shape=(32,32,3)))\n",
    "model.add(ks.layers.Conv2D(32, (3, 3), strides=1, activation='relu', \n",
    "                           padding='same', input_shape=(32,32,3)))\n",
    "model.add(ks.layers.MaxPooling2D((2, 2)))\n",
    "model.add(ks.layers.Dropout(0.3))\n",
    "\n",
    "model.add(ks.layers.Conv2D(64, (3, 3), strides=1, activation='relu', \n",
    "                           padding='same', input_shape=(32,32,3)))\n",
    "model.add(ks.layers.Conv2D(64, (3, 3), strides=1, activation='relu', \n",
    "                           padding='same', input_shape=(32,32,3)))\n",
    "model.add(ks.layers.MaxPooling2D((2, 2)))\n",
    "model.add(ks.layers.Dropout(0.3))\n",
    "\n",
    "model.add(ks.layers.Conv2D(128, (3, 3), strides=1, activation='relu', \n",
    "                           padding='same', input_shape=(32,32,3)))\n",
    "\n",
    "model.add(ks.layers.Conv2D(128, (3, 3), strides=1, activation='relu', \n",
    "                           padding='same', input_shape=(32,32,3)))\n",
    "model.add(ks.layers.MaxPooling2D((2, 2)))\n",
    "model.add(ks.layers.Dropout(0.3))\n",
    "\n",
    "model.add(ks.layers.Conv2D(256, (3, 3), strides=1, activation='relu', \n",
    "                           padding='same', input_shape=(32,32,3)))\n",
    "model.add(BatchNormalization())\n",
    "model.add(ks.layers.MaxPooling2D((2, 2)))\n",
    "model.add(ks.layers.Dropout(0.3))\n",
    "\n",
    "model.add(ks.layers.Flatten())\n",
    "\n",
    "# RED NEURONAL : CLASIFICACIÓN\n",
    "model.add(ks.layers.Dense(256, activation='relu'))\n",
    "model.add(BatchNormalization())\n",
    "model.add(ks.layers.Dropout(0.2))\n",
    "model.add(ks.layers.Dense(256, activation='relu'))\n",
    "model.add(BatchNormalization())\n",
    "model.add(ks.layers.Dropout(0.1))\n",
    "\n",
    "model.add(ks.layers.Dense(10, activation='softmax'))"
   ]
  },
  {
   "cell_type": "code",
   "execution_count": 4,
   "id": "f40ed6d2",
   "metadata": {
    "execution": {
     "iopub.execute_input": "2022-03-09T11:03:16.961155Z",
     "iopub.status.busy": "2022-03-09T11:03:16.960247Z",
     "iopub.status.idle": "2022-03-09T11:03:16.975593Z",
     "shell.execute_reply": "2022-03-09T11:03:16.974618Z",
     "shell.execute_reply.started": "2022-03-09T10:57:16.236474Z"
    },
    "papermill": {
     "duration": 0.059192,
     "end_time": "2022-03-09T11:03:16.975810",
     "exception": false,
     "start_time": "2022-03-09T11:03:16.916618",
     "status": "completed"
    },
    "tags": []
   },
   "outputs": [
    {
     "name": "stderr",
     "output_type": "stream",
     "text": [
      "/opt/conda/lib/python3.7/site-packages/keras_preprocessing/image/image_data_generator.py:342: UserWarning: This ImageDataGenerator specifies `zca_whitening` which overrides setting of`featurewise_std_normalization`.\n",
      "  warnings.warn('This ImageDataGenerator specifies '\n"
     ]
    },
    {
     "data": {
      "text/plain": [
       "<keras.preprocessing.image.ImageDataGenerator at 0x7fa704183550>"
      ]
     },
     "execution_count": 4,
     "metadata": {},
     "output_type": "execute_result"
    }
   ],
   "source": [
    "tf.keras.preprocessing.image.ImageDataGenerator(\n",
    "    featurewise_center=True,\n",
    "    samplewise_center=True,\n",
    "    featurewise_std_normalization=True,\n",
    "    samplewise_std_normalization=True,\n",
    "    zca_whitening=True,\n",
    "    zca_epsilon=1e-06,\n",
    "    rotation_range=50,\n",
    "    width_shift_range=0.3,\n",
    "    height_shift_range=0.3,\n",
    "    brightness_range=None,\n",
    "    shear_range=0.3,\n",
    "    zoom_range=0.3,\n",
    "    channel_shift_range=0.2,\n",
    "    fill_mode=\"nearest\",\n",
    "    cval=0.0,\n",
    "    horizontal_flip=True,\n",
    "    vertical_flip=True,\n",
    "    rescale=None,\n",
    "    preprocessing_function=None,\n",
    "    data_format=None,\n",
    "    validation_split=0.2,\n",
    "    dtype=None,\n",
    ")"
   ]
  },
  {
   "cell_type": "markdown",
   "id": "84c0c174",
   "metadata": {
    "id": "rhpzEhLy9oJq",
    "papermill": {
     "duration": 0.034549,
     "end_time": "2022-03-09T11:03:17.046659",
     "exception": false,
     "start_time": "2022-03-09T11:03:17.012110",
     "status": "completed"
    },
    "tags": []
   },
   "source": [
    "Para revisar un modelo, nos basta con llamar al método **.summary()** del modelo"
   ]
  },
  {
   "cell_type": "code",
   "execution_count": 5,
   "id": "01b1826d",
   "metadata": {
    "execution": {
     "iopub.execute_input": "2022-03-09T11:03:17.126140Z",
     "iopub.status.busy": "2022-03-09T11:03:17.122993Z",
     "iopub.status.idle": "2022-03-09T11:03:17.148442Z",
     "shell.execute_reply": "2022-03-09T11:03:17.147460Z",
     "shell.execute_reply.started": "2022-03-09T10:57:16.249336Z"
    },
    "id": "QPzKurY89oJq",
    "outputId": "54a6b02e-c437-42b4-8c27-b63162dcc2a8",
    "papermill": {
     "duration": 0.066803,
     "end_time": "2022-03-09T11:03:17.148629",
     "exception": false,
     "start_time": "2022-03-09T11:03:17.081826",
     "status": "completed"
    },
    "tags": []
   },
   "outputs": [
    {
     "name": "stdout",
     "output_type": "stream",
     "text": [
      "Model: \"sequential\"\n",
      "_________________________________________________________________\n",
      "Layer (type)                 Output Shape              Param #   \n",
      "=================================================================\n",
      "conv2d (Conv2D)              (None, 32, 32, 32)        896       \n",
      "_________________________________________________________________\n",
      "conv2d_1 (Conv2D)            (None, 32, 32, 32)        9248      \n",
      "_________________________________________________________________\n",
      "max_pooling2d (MaxPooling2D) (None, 16, 16, 32)        0         \n",
      "_________________________________________________________________\n",
      "dropout (Dropout)            (None, 16, 16, 32)        0         \n",
      "_________________________________________________________________\n",
      "conv2d_2 (Conv2D)            (None, 16, 16, 64)        18496     \n",
      "_________________________________________________________________\n",
      "conv2d_3 (Conv2D)            (None, 16, 16, 64)        36928     \n",
      "_________________________________________________________________\n",
      "max_pooling2d_1 (MaxPooling2 (None, 8, 8, 64)          0         \n",
      "_________________________________________________________________\n",
      "dropout_1 (Dropout)          (None, 8, 8, 64)          0         \n",
      "_________________________________________________________________\n",
      "conv2d_4 (Conv2D)            (None, 8, 8, 128)         73856     \n",
      "_________________________________________________________________\n",
      "conv2d_5 (Conv2D)            (None, 8, 8, 128)         147584    \n",
      "_________________________________________________________________\n",
      "max_pooling2d_2 (MaxPooling2 (None, 4, 4, 128)         0         \n",
      "_________________________________________________________________\n",
      "dropout_2 (Dropout)          (None, 4, 4, 128)         0         \n",
      "_________________________________________________________________\n",
      "conv2d_6 (Conv2D)            (None, 4, 4, 256)         295168    \n",
      "_________________________________________________________________\n",
      "batch_normalization (BatchNo (None, 4, 4, 256)         1024      \n",
      "_________________________________________________________________\n",
      "max_pooling2d_3 (MaxPooling2 (None, 2, 2, 256)         0         \n",
      "_________________________________________________________________\n",
      "dropout_3 (Dropout)          (None, 2, 2, 256)         0         \n",
      "_________________________________________________________________\n",
      "flatten (Flatten)            (None, 1024)              0         \n",
      "_________________________________________________________________\n",
      "dense (Dense)                (None, 256)               262400    \n",
      "_________________________________________________________________\n",
      "batch_normalization_1 (Batch (None, 256)               1024      \n",
      "_________________________________________________________________\n",
      "dropout_4 (Dropout)          (None, 256)               0         \n",
      "_________________________________________________________________\n",
      "dense_1 (Dense)              (None, 256)               65792     \n",
      "_________________________________________________________________\n",
      "batch_normalization_2 (Batch (None, 256)               1024      \n",
      "_________________________________________________________________\n",
      "dropout_5 (Dropout)          (None, 256)               0         \n",
      "_________________________________________________________________\n",
      "dense_2 (Dense)              (None, 10)                2570      \n",
      "=================================================================\n",
      "Total params: 916,010\n",
      "Trainable params: 914,474\n",
      "Non-trainable params: 1,536\n",
      "_________________________________________________________________\n"
     ]
    }
   ],
   "source": [
    "model.summary()"
   ]
  },
  {
   "cell_type": "markdown",
   "id": "5fac1d33",
   "metadata": {
    "id": "Y6bEaf7l9oJq",
    "papermill": {
     "duration": 0.035807,
     "end_time": "2022-03-09T11:03:17.220932",
     "exception": false,
     "start_time": "2022-03-09T11:03:17.185125",
     "status": "completed"
    },
    "tags": []
   },
   "source": [
    "## 3. Optimizador, función error\n"
   ]
  },
  {
   "cell_type": "code",
   "execution_count": 6,
   "id": "80813e0c",
   "metadata": {
    "execution": {
     "iopub.execute_input": "2022-03-09T11:03:17.297592Z",
     "iopub.status.busy": "2022-03-09T11:03:17.296475Z",
     "iopub.status.idle": "2022-03-09T11:03:17.300097Z",
     "shell.execute_reply": "2022-03-09T11:03:17.299449Z",
     "shell.execute_reply.started": "2022-03-09T10:57:16.272168Z"
    },
    "id": "eDfwXObn9oJr",
    "papermill": {
     "duration": 0.043785,
     "end_time": "2022-03-09T11:03:17.300247",
     "exception": false,
     "start_time": "2022-03-09T11:03:17.256462",
     "status": "completed"
    },
    "tags": []
   },
   "outputs": [],
   "source": [
    "#model.compile(optimizer='Adam',\n",
    "              #loss='sparse_categorical_crossentropy',\n",
    "              #metrics=['accuracy'])"
   ]
  },
  {
   "cell_type": "code",
   "execution_count": 7,
   "id": "d92b2bbd",
   "metadata": {
    "execution": {
     "iopub.execute_input": "2022-03-09T11:03:17.384304Z",
     "iopub.status.busy": "2022-03-09T11:03:17.379562Z",
     "iopub.status.idle": "2022-03-09T11:03:17.392676Z",
     "shell.execute_reply": "2022-03-09T11:03:17.391719Z",
     "shell.execute_reply.started": "2022-03-09T10:57:16.278179Z"
    },
    "papermill": {
     "duration": 0.05663,
     "end_time": "2022-03-09T11:03:17.392822",
     "exception": false,
     "start_time": "2022-03-09T11:03:17.336192",
     "status": "completed"
    },
    "tags": []
   },
   "outputs": [],
   "source": [
    "new_adam = Adam(learning_rate=0.001)\n",
    "model.compile(optimizer=new_adam,\n",
    "              loss='sparse_categorical_crossentropy',\n",
    "              metrics=['accuracy'] )"
   ]
  },
  {
   "cell_type": "markdown",
   "id": "beb80f2a",
   "metadata": {
    "id": "qHBg7wfE9oJr",
    "papermill": {
     "duration": 0.035265,
     "end_time": "2022-03-09T11:03:17.463676",
     "exception": false,
     "start_time": "2022-03-09T11:03:17.428411",
     "status": "completed"
    },
    "tags": []
   },
   "source": [
    "## 4. Preparamos los datos\n",
    "\n",
    "Cargamos los datos de CIFAR10 de los datasets directamente de las librerias de Keras. Estos ya estan dispuestos en train and test\n",
    "\n",
    "**Detalle importante:** \n",
    "> La red neuronal requiere que los inputs sean números reales, y lo haremos forzando la division de los valores de dentro de las matrices 28x28 (que tienen valoress del 0 al 255) por 255.0 (un real)"
   ]
  },
  {
   "cell_type": "code",
   "execution_count": 8,
   "id": "c163f37b",
   "metadata": {
    "execution": {
     "iopub.execute_input": "2022-03-09T11:03:17.541232Z",
     "iopub.status.busy": "2022-03-09T11:03:17.540043Z",
     "iopub.status.idle": "2022-03-09T11:03:26.743085Z",
     "shell.execute_reply": "2022-03-09T11:03:26.744580Z",
     "shell.execute_reply.started": "2022-03-09T10:57:16.290891Z"
    },
    "id": "9mZWEbQc9oJr",
    "outputId": "64bc1bf6-7fb2-48be-987e-2736f3b20387",
    "papermill": {
     "duration": 9.245905,
     "end_time": "2022-03-09T11:03:26.744903",
     "exception": false,
     "start_time": "2022-03-09T11:03:17.498998",
     "status": "completed"
    },
    "tags": []
   },
   "outputs": [
    {
     "name": "stdout",
     "output_type": "stream",
     "text": [
      "Downloading data from https://www.cs.toronto.edu/~kriz/cifar-10-python.tar.gz\n",
      "170500096/170498071 [==============================] - 6s 0us/step\n",
      "170508288/170498071 [==============================] - 6s 0us/step\n"
     ]
    }
   ],
   "source": [
    "cifar10 = ks.datasets.cifar10\n",
    "\n",
    "(x_train, y_train), (x_test, y_test) = cifar10.load_data()\n",
    "\n",
    "x_train_scaled, x_test_scaled = x_train / 255.0, x_test / 255.0"
   ]
  },
  {
   "cell_type": "code",
   "execution_count": 9,
   "id": "cad6235d",
   "metadata": {
    "execution": {
     "iopub.execute_input": "2022-03-09T11:03:26.879237Z",
     "iopub.status.busy": "2022-03-09T11:03:26.878296Z",
     "iopub.status.idle": "2022-03-09T11:03:26.882062Z",
     "shell.execute_reply": "2022-03-09T11:03:26.882628Z",
     "shell.execute_reply.started": "2022-03-09T10:57:17.505541Z"
    },
    "id": "j8A9za5z9oJr",
    "outputId": "888ee721-2747-4004-b1fe-ba260adcb5ff",
    "papermill": {
     "duration": 0.072493,
     "end_time": "2022-03-09T11:03:26.882790",
     "exception": false,
     "start_time": "2022-03-09T11:03:26.810297",
     "status": "completed"
    },
    "tags": []
   },
   "outputs": [
    {
     "data": {
      "text/plain": [
       "array([[6],\n",
       "       [9],\n",
       "       [9],\n",
       "       ...,\n",
       "       [9],\n",
       "       [1],\n",
       "       [1]], dtype=uint8)"
      ]
     },
     "execution_count": 9,
     "metadata": {},
     "output_type": "execute_result"
    }
   ],
   "source": [
    "y_train_label = y_train\n",
    "\n",
    "y_test\n",
    "y_train"
   ]
  },
  {
   "cell_type": "markdown",
   "id": "eb9be91a",
   "metadata": {
    "id": "bQf1GueY9oJs",
    "papermill": {
     "duration": 0.123959,
     "end_time": "2022-03-09T11:03:27.079046",
     "exception": false,
     "start_time": "2022-03-09T11:03:26.955087",
     "status": "completed"
    },
    "tags": []
   },
   "source": [
    "Obtenemos un array con todas las labels de CIFAR10"
   ]
  },
  {
   "cell_type": "code",
   "execution_count": 10,
   "id": "9e44d466",
   "metadata": {
    "execution": {
     "iopub.execute_input": "2022-03-09T11:03:27.362953Z",
     "iopub.status.busy": "2022-03-09T11:03:27.361839Z",
     "iopub.status.idle": "2022-03-09T11:03:27.373931Z",
     "shell.execute_reply": "2022-03-09T11:03:27.372818Z",
     "shell.execute_reply.started": "2022-03-09T10:57:17.515202Z"
    },
    "id": "EJR1ydE99oJs",
    "outputId": "e5f31edc-08bb-444e-e033-6ddc80e901aa",
    "papermill": {
     "duration": 0.154854,
     "end_time": "2022-03-09T11:03:27.374158",
     "exception": false,
     "start_time": "2022-03-09T11:03:27.219304",
     "status": "completed"
    },
    "tags": []
   },
   "outputs": [
    {
     "name": "stdout",
     "output_type": "stream",
     "text": [
      "Number of labels: 10\n"
     ]
    }
   ],
   "source": [
    "cifar10_labels = [\n",
    "'airplane', # id 0\n",
    "'automobile',\n",
    "'bird',\n",
    "'cat',\n",
    "'deer',\n",
    "'dog',\n",
    "'frog',\n",
    "'horse',\n",
    "'ship',\n",
    "'truck',\n",
    "]\n",
    "\n",
    "print('Number of labels: %s' % len(cifar10_labels))"
   ]
  },
  {
   "cell_type": "markdown",
   "id": "18a6888b",
   "metadata": {
    "id": "61GhgQs49oJs",
    "papermill": {
     "duration": 0.14997,
     "end_time": "2022-03-09T11:03:27.692702",
     "exception": false,
     "start_time": "2022-03-09T11:03:27.542732",
     "status": "completed"
    },
    "tags": []
   },
   "source": [
    "Pintemos una muestra de las imagenes del dataset CIFAR10, a ver si se parece en algo a lo que esperamos.\n",
    "Primero, vemos que tipos de datos tengo, después mapeamos esas matrices en una escala de grises utilizando el método **.get_cmap()** de PlotLy con los nueve primeros números del dataset."
   ]
  },
  {
   "cell_type": "code",
   "execution_count": 11,
   "id": "50fee0ab",
   "metadata": {
    "execution": {
     "iopub.execute_input": "2022-03-09T11:03:28.118934Z",
     "iopub.status.busy": "2022-03-09T11:03:28.105143Z",
     "iopub.status.idle": "2022-03-09T11:03:29.256693Z",
     "shell.execute_reply": "2022-03-09T11:03:29.257259Z",
     "shell.execute_reply.started": "2022-03-09T10:57:17.525079Z"
    },
    "id": "9-Dk8dgQ9oJs",
    "outputId": "6cb615fb-b62e-4315-f474-c3c77c50e8b5",
    "papermill": {
     "duration": 1.34793,
     "end_time": "2022-03-09T11:03:29.257460",
     "exception": false,
     "start_time": "2022-03-09T11:03:27.909530",
     "status": "completed"
    },
    "tags": []
   },
   "outputs": [
    {
     "name": "stdout",
     "output_type": "stream",
     "text": [
      "Train: X=(50000, 32, 32, 3), y=(50000, 1)\n",
      "Test: X=(10000, 32, 32, 3), y=(10000, 1)\n"
     ]
    },
    {
     "data": {
      "image/png": "[encoded data removed]",
      "text/plain": [
       "<Figure size 432x288 with 9 Axes>"
      ]
     },
     "metadata": {
      "needs_background": "light"
     },
     "output_type": "display_data"
    }
   ],
   "source": [
    "# Pintemos una muestra de las las imagenes del dataset MNIST\n",
    "\n",
    "print('Train: X=%s, y=%s' % (x_train.shape, y_train.shape))\n",
    "print('Test: X=%s, y=%s' % (x_test.shape, y_test.shape))\n",
    "\n",
    "for i in range(9):\n",
    "\n",
    "    plt.subplot(330 + 1 + i)\n",
    "    plt.imshow(x_train[i], cmap=plt.get_cmap('gray'))\n",
    "    plt.title(cifar10_labels[y_train_label[i,0]])\n",
    "\n",
    "plt.subplots_adjust(hspace = 1)\n",
    "plt.show()"
   ]
  },
  {
   "cell_type": "markdown",
   "id": "e320b570",
   "metadata": {
    "id": "WRm5syYA9oJt",
    "papermill": {
     "duration": 0.06436,
     "end_time": "2022-03-09T11:03:29.385001",
     "exception": false,
     "start_time": "2022-03-09T11:03:29.320641",
     "status": "completed"
    },
    "tags": []
   },
   "source": [
    "Como vamos a querer ir haciendo validación a la vez que entrenamos (muy practico)"
   ]
  },
  {
   "cell_type": "code",
   "execution_count": 12,
   "id": "e45e38ce",
   "metadata": {
    "execution": {
     "iopub.execute_input": "2022-03-09T11:03:29.520131Z",
     "iopub.status.busy": "2022-03-09T11:03:29.519078Z",
     "iopub.status.idle": "2022-03-09T11:03:29.522553Z",
     "shell.execute_reply": "2022-03-09T11:03:29.521930Z",
     "shell.execute_reply.started": "2022-03-09T10:57:18.388123Z"
    },
    "id": "ll_ESZXN9oJt",
    "papermill": {
     "duration": 0.072794,
     "end_time": "2022-03-09T11:03:29.522709",
     "exception": false,
     "start_time": "2022-03-09T11:03:29.449915",
     "status": "completed"
    },
    "tags": []
   },
   "outputs": [],
   "source": [
    "x_val_scaled = x_train_scaled[-10000:]\n",
    "y_val = y_train[-10000:]\n",
    "\n",
    "x_train_scaled = x_train_scaled[:-10000]\n",
    "y_train = y_train[:-10000]\n"
   ]
  },
  {
   "cell_type": "markdown",
   "id": "df3bec69",
   "metadata": {
    "id": "857gyhgz9oJt",
    "papermill": {
     "duration": 0.062929,
     "end_time": "2022-03-09T11:03:29.649090",
     "exception": false,
     "start_time": "2022-03-09T11:03:29.586161",
     "status": "completed"
    },
    "tags": []
   },
   "source": [
    "Cuando añadimos convoluciones, necesitamos \"pre-tratar los datos\", porque **la convolución espera una matriz de 4 campos** (más parecido a \"imagenes\"), en el caso de MNIST. CIFAR10 ya tiene el shape adecuado, así que no tenemos que hacer nada, pero como siempre decimos: es mejor que comprobeis su tamaño.\n",
    "\n",
    "Por eso, al salir de la Convolution, hay que hacer un Flatten, porque las capas FullDense esperan arrays, no matrices!!\n",
    "\n",
    "Luego lo imprimimos para ver que todo está correcto"
   ]
  },
  {
   "cell_type": "code",
   "execution_count": 13,
   "id": "669975ac",
   "metadata": {
    "execution": {
     "iopub.execute_input": "2022-03-09T11:03:29.783556Z",
     "iopub.status.busy": "2022-03-09T11:03:29.782420Z",
     "iopub.status.idle": "2022-03-09T11:03:29.786831Z",
     "shell.execute_reply": "2022-03-09T11:03:29.787409Z",
     "shell.execute_reply.started": "2022-03-09T10:57:18.401127Z"
    },
    "id": "GsD9N7Jf9oJt",
    "outputId": "ea9825e0-1c5e-446d-9f37-1f06f7d8a476",
    "papermill": {
     "duration": 0.075609,
     "end_time": "2022-03-09T11:03:29.787596",
     "exception": false,
     "start_time": "2022-03-09T11:03:29.711987",
     "status": "completed"
    },
    "tags": []
   },
   "outputs": [
    {
     "name": "stdout",
     "output_type": "stream",
     "text": [
      "Train: X=(40000, 32, 32, 3), y=(40000, 1)\n",
      "Test: X=(10000, 32, 32, 3), y=(10000, 1)\n",
      "Validation: X=(10000, 32, 32, 3), y=(10000, 1)\n"
     ]
    }
   ],
   "source": [
    "# Validamos el resultado\n",
    "print('Train: X=%s, y=%s' % (x_train_scaled.shape, y_train.shape))\n",
    "print('Test: X=%s, y=%s' % (x_test_scaled.shape, y_test.shape))\n",
    "print('Validation: X=%s, y=%s' % (x_val_scaled.shape, y_val.shape))"
   ]
  },
  {
   "cell_type": "markdown",
   "id": "fcbb2a3f",
   "metadata": {
    "id": "x4CSQVcD9oJu",
    "papermill": {
     "duration": 0.064186,
     "end_time": "2022-03-09T11:03:29.916575",
     "exception": false,
     "start_time": "2022-03-09T11:03:29.852389",
     "status": "completed"
    },
    "tags": []
   },
   "source": [
    "## 5. Entrenamiento\n",
    "\n",
    "Ya podemos ponernos a entrenar el modelo!! Ojo, que hemos de entrenar contra los datos convertidos al formato que espera la Convolution.\n",
    "\n",
    "Empezaremos con 30 epocs, es decir, 30 pasadas completas del dataset (que a su vez sera con mini-batches internamente), fijando un batch de 64\n",
    "\n",
    "El metodo .fit() nos permite, definir además si disponemos de varias CPUs, GPUs, y si queremos ir validando datos a cada fin de epoch."
   ]
  },
  {
   "cell_type": "markdown",
   "id": "e646a713",
   "metadata": {
    "id": "4hjYmiIjwucd",
    "papermill": {
     "duration": 0.064067,
     "end_time": "2022-03-09T11:03:30.045009",
     "exception": false,
     "start_time": "2022-03-09T11:03:29.980942",
     "status": "completed"
    },
    "tags": []
   },
   "source": [
    "###Early Stopping Callback\n",
    "Añadimos un Early Stopping cuando el modelo ya no mejora\n"
   ]
  },
  {
   "cell_type": "code",
   "execution_count": 14,
   "id": "9f60d6b2",
   "metadata": {
    "execution": {
     "iopub.execute_input": "2022-03-09T11:03:30.178065Z",
     "iopub.status.busy": "2022-03-09T11:03:30.177064Z",
     "iopub.status.idle": "2022-03-09T11:03:30.179979Z",
     "shell.execute_reply": "2022-03-09T11:03:30.180610Z",
     "shell.execute_reply.started": "2022-03-09T10:57:18.415904Z"
    },
    "id": "mPYxWLsfasN9",
    "papermill": {
     "duration": 0.072342,
     "end_time": "2022-03-09T11:03:30.180773",
     "exception": false,
     "start_time": "2022-03-09T11:03:30.108431",
     "status": "completed"
    },
    "tags": []
   },
   "outputs": [],
   "source": [
    "control_accuracy = EarlyStopping(monitor='val_accuracy', patience=5)\n",
    "\n",
    "# cuando la validación no mejora es cuando para\n"
   ]
  },
  {
   "cell_type": "code",
   "execution_count": 15,
   "id": "e9c138c5",
   "metadata": {
    "execution": {
     "iopub.execute_input": "2022-03-09T11:03:30.314348Z",
     "iopub.status.busy": "2022-03-09T11:03:30.313306Z",
     "iopub.status.idle": "2022-03-09T11:03:30.316599Z",
     "shell.execute_reply": "2022-03-09T11:03:30.315971Z",
     "shell.execute_reply.started": "2022-03-09T10:57:18.427275Z"
    },
    "id": "WVDxMUFK9oJu",
    "papermill": {
     "duration": 0.072119,
     "end_time": "2022-03-09T11:03:30.316739",
     "exception": false,
     "start_time": "2022-03-09T11:03:30.244620",
     "status": "completed"
    },
    "tags": []
   },
   "outputs": [],
   "source": [
    "t = time.perf_counter()"
   ]
  },
  {
   "cell_type": "code",
   "execution_count": 16,
   "id": "14f7b9ef",
   "metadata": {
    "execution": {
     "iopub.execute_input": "2022-03-09T11:03:30.451961Z",
     "iopub.status.busy": "2022-03-09T11:03:30.450865Z",
     "iopub.status.idle": "2022-03-09T11:10:27.835654Z",
     "shell.execute_reply": "2022-03-09T11:10:27.836173Z",
     "shell.execute_reply.started": "2022-03-09T10:57:18.435059Z"
    },
    "id": "ecp-nOVj9oJu",
    "outputId": "a9799545-6b66-48b4-ced9-dbaedc03d83c",
    "papermill": {
     "duration": 417.45581,
     "end_time": "2022-03-09T11:10:27.836385",
     "exception": false,
     "start_time": "2022-03-09T11:03:30.380575",
     "status": "completed"
    },
    "tags": []
   },
   "outputs": [
    {
     "name": "stderr",
     "output_type": "stream",
     "text": [
      "2022-03-09 11:03:31.749521: I tensorflow/compiler/mlir/mlir_graph_optimization_pass.cc:185] None of the MLIR Optimization Passes are enabled (registered 2)\n"
     ]
    },
    {
     "name": "stdout",
     "output_type": "stream",
     "text": [
      "Epoch 1/1250\n"
     ]
    },
    {
     "name": "stderr",
     "output_type": "stream",
     "text": [
      "2022-03-09 11:03:34.072949: I tensorflow/stream_executor/cuda/cuda_dnn.cc:369] Loaded cuDNN version 8005\n"
     ]
    },
    {
     "name": "stdout",
     "output_type": "stream",
     "text": [
      "1250/1250 [==============================] - 20s 9ms/step - loss: 1.9214 - accuracy: 0.2988 - val_loss: 1.7603 - val_accuracy: 0.3710\n",
      "Epoch 2/1250\n",
      "1250/1250 [==============================] - 12s 10ms/step - loss: 1.4807 - accuracy: 0.4591 - val_loss: 1.3740 - val_accuracy: 0.5085\n",
      "Epoch 3/1250\n",
      "1250/1250 [==============================] - 11s 9ms/step - loss: 1.2582 - accuracy: 0.5493 - val_loss: 1.2996 - val_accuracy: 0.5347\n",
      "Epoch 4/1250\n",
      "1250/1250 [==============================] - 11s 9ms/step - loss: 1.1079 - accuracy: 0.6047 - val_loss: 1.0818 - val_accuracy: 0.6186\n",
      "Epoch 5/1250\n",
      "1250/1250 [==============================] - 13s 10ms/step - loss: 1.0038 - accuracy: 0.6454 - val_loss: 0.8307 - val_accuracy: 0.7080\n",
      "Epoch 6/1250\n",
      "1250/1250 [==============================] - 11s 9ms/step - loss: 0.9124 - accuracy: 0.6787 - val_loss: 0.7661 - val_accuracy: 0.7269\n",
      "Epoch 7/1250\n",
      "1250/1250 [==============================] - 11s 9ms/step - loss: 0.8471 - accuracy: 0.7036 - val_loss: 0.7291 - val_accuracy: 0.7499\n",
      "Epoch 8/1250\n",
      "1250/1250 [==============================] - 12s 10ms/step - loss: 0.7970 - accuracy: 0.7213 - val_loss: 0.7793 - val_accuracy: 0.7309\n",
      "Epoch 9/1250\n",
      "1250/1250 [==============================] - 11s 9ms/step - loss: 0.7426 - accuracy: 0.7407 - val_loss: 0.6864 - val_accuracy: 0.7592\n",
      "Epoch 10/1250\n",
      "1250/1250 [==============================] - 12s 10ms/step - loss: 0.7048 - accuracy: 0.7570 - val_loss: 0.6665 - val_accuracy: 0.7693\n",
      "Epoch 11/1250\n",
      "1250/1250 [==============================] - 12s 9ms/step - loss: 0.6688 - accuracy: 0.7698 - val_loss: 0.6179 - val_accuracy: 0.7831\n",
      "Epoch 12/1250\n",
      "1250/1250 [==============================] - 11s 9ms/step - loss: 0.6419 - accuracy: 0.7792 - val_loss: 0.5837 - val_accuracy: 0.8000\n",
      "Epoch 13/1250\n",
      "1250/1250 [==============================] - 11s 9ms/step - loss: 0.6094 - accuracy: 0.7885 - val_loss: 0.6091 - val_accuracy: 0.7925\n",
      "Epoch 14/1250\n",
      "1250/1250 [==============================] - 12s 9ms/step - loss: 0.5940 - accuracy: 0.7962 - val_loss: 0.5576 - val_accuracy: 0.8074\n",
      "Epoch 15/1250\n",
      "1250/1250 [==============================] - 11s 9ms/step - loss: 0.5658 - accuracy: 0.8033 - val_loss: 0.5392 - val_accuracy: 0.8132\n",
      "Epoch 16/1250\n",
      "1250/1250 [==============================] - 12s 10ms/step - loss: 0.5560 - accuracy: 0.8065 - val_loss: 0.5669 - val_accuracy: 0.8082\n",
      "Epoch 17/1250\n",
      "1250/1250 [==============================] - 11s 9ms/step - loss: 0.5346 - accuracy: 0.8159 - val_loss: 0.5597 - val_accuracy: 0.8105\n",
      "Epoch 18/1250\n",
      "1250/1250 [==============================] - 11s 9ms/step - loss: 0.5201 - accuracy: 0.8196 - val_loss: 0.5263 - val_accuracy: 0.8190\n",
      "Epoch 19/1250\n",
      "1250/1250 [==============================] - 13s 10ms/step - loss: 0.4975 - accuracy: 0.8263 - val_loss: 0.5845 - val_accuracy: 0.8026\n",
      "Epoch 20/1250\n",
      "1250/1250 [==============================] - 11s 9ms/step - loss: 0.4865 - accuracy: 0.8322 - val_loss: 0.5423 - val_accuracy: 0.8172\n",
      "Epoch 21/1250\n",
      "1250/1250 [==============================] - 11s 9ms/step - loss: 0.4692 - accuracy: 0.8359 - val_loss: 0.5474 - val_accuracy: 0.8166\n",
      "Epoch 22/1250\n",
      "1250/1250 [==============================] - 13s 10ms/step - loss: 0.4564 - accuracy: 0.8392 - val_loss: 0.5522 - val_accuracy: 0.8141\n",
      "Epoch 23/1250\n",
      "1250/1250 [==============================] - 11s 9ms/step - loss: 0.4512 - accuracy: 0.8439 - val_loss: 0.5179 - val_accuracy: 0.8246\n",
      "Epoch 24/1250\n",
      "1250/1250 [==============================] - 11s 9ms/step - loss: 0.4324 - accuracy: 0.8486 - val_loss: 0.4991 - val_accuracy: 0.8336\n",
      "Epoch 25/1250\n",
      "1250/1250 [==============================] - 13s 10ms/step - loss: 0.4229 - accuracy: 0.8515 - val_loss: 0.5241 - val_accuracy: 0.8271\n",
      "Epoch 26/1250\n",
      "1250/1250 [==============================] - 12s 9ms/step - loss: 0.4142 - accuracy: 0.8557 - val_loss: 0.4966 - val_accuracy: 0.8342\n",
      "Epoch 27/1250\n",
      "1250/1250 [==============================] - 12s 10ms/step - loss: 0.4112 - accuracy: 0.8555 - val_loss: 0.4744 - val_accuracy: 0.8396\n",
      "Epoch 28/1250\n",
      "1250/1250 [==============================] - 12s 10ms/step - loss: 0.3967 - accuracy: 0.8604 - val_loss: 0.5383 - val_accuracy: 0.8218\n",
      "Epoch 29/1250\n",
      "1250/1250 [==============================] - 11s 9ms/step - loss: 0.3976 - accuracy: 0.8611 - val_loss: 0.5279 - val_accuracy: 0.8242\n",
      "Epoch 30/1250\n",
      "1250/1250 [==============================] - 12s 10ms/step - loss: 0.3801 - accuracy: 0.8674 - val_loss: 0.4788 - val_accuracy: 0.8422\n",
      "Epoch 31/1250\n",
      "1250/1250 [==============================] - 12s 10ms/step - loss: 0.3686 - accuracy: 0.8709 - val_loss: 0.5206 - val_accuracy: 0.8277\n",
      "Epoch 32/1250\n",
      "1250/1250 [==============================] - 11s 9ms/step - loss: 0.3615 - accuracy: 0.8729 - val_loss: 0.5184 - val_accuracy: 0.8302\n",
      "Epoch 33/1250\n",
      "1250/1250 [==============================] - 13s 11ms/step - loss: 0.3610 - accuracy: 0.8741 - val_loss: 0.4933 - val_accuracy: 0.8360\n",
      "Epoch 34/1250\n",
      "1250/1250 [==============================] - 12s 10ms/step - loss: 0.3554 - accuracy: 0.8758 - val_loss: 0.4971 - val_accuracy: 0.8410\n",
      "Epoch 35/1250\n",
      "1250/1250 [==============================] - 11s 9ms/step - loss: 0.3364 - accuracy: 0.8801 - val_loss: 0.4865 - val_accuracy: 0.8421\n"
     ]
    }
   ],
   "source": [
    "history = model.fit(x_train_scaled, y_train, epochs= 1250, \n",
    "                    use_multiprocessing=False, batch_size= 32, \n",
    "                    validation_data=(x_val_scaled, y_val),\n",
    "                    callbacks=[control_accuracy])"
   ]
  },
  {
   "cell_type": "code",
   "execution_count": 17,
   "id": "dbaa513b",
   "metadata": {
    "execution": {
     "iopub.execute_input": "2022-03-09T11:10:32.642216Z",
     "iopub.status.busy": "2022-03-09T11:10:32.641405Z",
     "iopub.status.idle": "2022-03-09T11:10:32.648662Z",
     "shell.execute_reply": "2022-03-09T11:10:32.647863Z",
     "shell.execute_reply.started": "2022-03-09T11:01:58.193330Z"
    },
    "id": "OPFPUNcJ9oJu",
    "papermill": {
     "duration": 2.391717,
     "end_time": "2022-03-09T11:10:32.648843",
     "exception": false,
     "start_time": "2022-03-09T11:10:30.257126",
     "status": "completed"
    },
    "tags": []
   },
   "outputs": [
    {
     "name": "stdout",
     "output_type": "stream",
     "text": [
      "Tiempo de entrenamiento: 0:07:02.327150\n"
     ]
    }
   ],
   "source": [
    "elapsed_time = datetime.timedelta(seconds=(time.perf_counter() - t))\n",
    "\n",
    "print('Tiempo de entrenamiento:', elapsed_time)"
   ]
  },
  {
   "cell_type": "markdown",
   "id": "1bb54f7f",
   "metadata": {
    "id": "n6Byf3JG9oJu",
    "papermill": {
     "duration": 3.472494,
     "end_time": "2022-03-09T11:10:38.558897",
     "exception": false,
     "start_time": "2022-03-09T11:10:35.086403",
     "status": "completed"
    },
    "tags": []
   },
   "source": [
    "## 6. Evaluamos los resultados\n",
    "\n",
    "Obtengamos una grafica de como el error y la accuracy van evolucionando en cada epoch en los datos de entrenamiento y en la validación"
   ]
  },
  {
   "cell_type": "code",
   "execution_count": 18,
   "id": "bf0831b6",
   "metadata": {
    "execution": {
     "iopub.execute_input": "2022-03-09T11:10:43.406917Z",
     "iopub.status.busy": "2022-03-09T11:10:43.405836Z",
     "iopub.status.idle": "2022-03-09T11:10:45.039476Z",
     "shell.execute_reply": "2022-03-09T11:10:45.038583Z",
     "shell.execute_reply.started": "2022-03-09T11:01:58.200605Z"
    },
    "id": "j9IaZ3-W9oJv",
    "papermill": {
     "duration": 4.067479,
     "end_time": "2022-03-09T11:10:45.039655",
     "exception": false,
     "start_time": "2022-03-09T11:10:40.972176",
     "status": "completed"
    },
    "tags": []
   },
   "outputs": [
    {
     "name": "stdout",
     "output_type": "stream",
     "text": [
      "> 83.490\n"
     ]
    }
   ],
   "source": [
    "_, acc = model.evaluate(x_test_scaled, y_test, verbose=0)\n",
    "print('> %.3f' % (acc * 100.0))"
   ]
  },
  {
   "cell_type": "code",
   "execution_count": 19,
   "id": "c3755c2f",
   "metadata": {
    "execution": {
     "iopub.execute_input": "2022-03-09T11:10:50.206508Z",
     "iopub.status.busy": "2022-03-09T11:10:50.205735Z",
     "iopub.status.idle": "2022-03-09T11:10:50.682887Z",
     "shell.execute_reply": "2022-03-09T11:10:50.683422Z",
     "shell.execute_reply.started": "2022-03-09T11:01:59.257534Z"
    },
    "id": "GrH8OFmF9oJv",
    "papermill": {
     "duration": 2.950685,
     "end_time": "2022-03-09T11:10:50.683619",
     "exception": false,
     "start_time": "2022-03-09T11:10:47.732934",
     "status": "completed"
    },
    "tags": []
   },
   "outputs": [
    {
     "data": {
      "image/png": "[encoded data removed]",
      "text/plain": [
       "<Figure size 432x288 with 1 Axes>"
      ]
     },
     "metadata": {
      "needs_background": "light"
     },
     "output_type": "display_data"
    },
    {
     "data": {
      "image/png": "[encoded data removed]",
      "text/plain": [
       "<Figure size 432x288 with 1 Axes>"
      ]
     },
     "metadata": {
      "needs_background": "light"
     },
     "output_type": "display_data"
    }
   ],
   "source": [
    "plt.title('Cross Entropy Loss')\n",
    "plt.plot(history.history['loss'], color='blue', label='train')\n",
    "plt.plot(history.history['val_loss'], color='orange', label='val')\n",
    "plt.legend()\n",
    "plt.show()\n",
    "\n",
    "plt.title('Classification Accuracy')\n",
    "plt.plot(history.history['accuracy'], color='blue', label='train')\n",
    "plt.plot(history.history['val_accuracy'], color='orange', label='val')\n",
    "plt.legend()\n",
    "plt.show()"
   ]
  },
  {
   "cell_type": "markdown",
   "id": "de874db2",
   "metadata": {
    "id": "BT7Xpz409oJv",
    "papermill": {
     "duration": 2.403074,
     "end_time": "2022-03-09T11:10:55.546301",
     "exception": false,
     "start_time": "2022-03-09T11:10:53.143227",
     "status": "completed"
    },
    "tags": []
   },
   "source": [
    "El coste podemos ver que es estable y es en el epoch 15 que se fija en un valor. Además la accuracy baila alrededor de 0.10. No se puede decir que sea un modelo muy bueno.\n",
    "\n",
    "Veamos que tipo de predicciones estoy obteniendo sobre el conjunto de test (vamos a pintar las imagenes y sus clasificaciones)"
   ]
  },
  {
   "cell_type": "code",
   "execution_count": 20,
   "id": "38a2c136",
   "metadata": {
    "execution": {
     "iopub.execute_input": "2022-03-09T11:11:00.799183Z",
     "iopub.status.busy": "2022-03-09T11:11:00.798055Z",
     "iopub.status.idle": "2022-03-09T11:11:01.822101Z",
     "shell.execute_reply": "2022-03-09T11:11:01.821479Z",
     "shell.execute_reply.started": "2022-03-09T11:01:59.661088Z"
    },
    "id": "G4gqi32X9oJw",
    "papermill": {
     "duration": 3.784401,
     "end_time": "2022-03-09T11:11:01.822286",
     "exception": false,
     "start_time": "2022-03-09T11:10:58.037885",
     "status": "completed"
    },
    "tags": []
   },
   "outputs": [],
   "source": [
    "predictions = model.predict(x_test)"
   ]
  },
  {
   "cell_type": "markdown",
   "id": "3b772e6a",
   "metadata": {
    "id": "3blmpM1k9oJw",
    "papermill": {
     "duration": 2.384499,
     "end_time": "2022-03-09T11:11:06.621983",
     "exception": false,
     "start_time": "2022-03-09T11:11:04.237484",
     "status": "completed"
    },
    "tags": []
   },
   "source": [
    "Una de las ventajas de Python es que hay montones de funciones y código realizado por terceras personas. Aquí me he fusilado unas bonitas funciones (que he adaptado un poco a mis necesidades) para poder pintar las imagenes, su label (ground truth) y las clasificaciones que hemos realizado."
   ]
  },
  {
   "cell_type": "code",
   "execution_count": 21,
   "id": "1f423e5e",
   "metadata": {
    "execution": {
     "iopub.execute_input": "2022-03-09T11:11:11.841005Z",
     "iopub.status.busy": "2022-03-09T11:11:11.840057Z",
     "iopub.status.idle": "2022-03-09T11:11:11.843616Z",
     "shell.execute_reply": "2022-03-09T11:11:11.843010Z",
     "shell.execute_reply.started": "2022-03-09T11:02:00.514193Z"
    },
    "id": "P02wctIA9oJw",
    "papermill": {
     "duration": 2.691444,
     "end_time": "2022-03-09T11:11:11.843767",
     "exception": false,
     "start_time": "2022-03-09T11:11:09.152323",
     "status": "completed"
    },
    "tags": []
   },
   "outputs": [],
   "source": [
    "def plot_image(i, predictions_array, true_label, img):\n",
    "  predictions_array, true_label, img = predictions_array, true_label[i], img[i]\n",
    "  plt.grid(False)\n",
    "  plt.xticks([])\n",
    "  plt.yticks([])\n",
    "\n",
    "  plt.imshow(img, cmap=plt.cm.binary)\n",
    "\n",
    "  predicted_label = np.argmax(predictions_array)\n",
    "  if predicted_label == true_label:\n",
    "    color = 'blue'\n",
    "  else:\n",
    "    color = 'red'\n",
    "\n",
    "  plt.xlabel(\"{} {:2.0f}% ({})\".format(predicted_label,\n",
    "                                100*np.max(predictions_array),\n",
    "                                true_label[0]),\n",
    "                                color=color)\n",
    "\n",
    "def plot_value_array(i, predictions_array, true_label):\n",
    "  predictions_array, true_label = predictions_array, true_label[i]\n",
    "  plt.grid(False)\n",
    "  plt.xticks(range(10))\n",
    "  plt.yticks([])\n",
    "  thisplot = plt.bar(range(10), predictions_array, color=\"#777777\")\n",
    "  plt.ylim([0, 1])\n",
    "  predicted_label = np.argmax(predictions_array)\n",
    "\n",
    "  thisplot[predicted_label].set_color('red')\n",
    "  thisplot[true_label[0]].set_color('blue')"
   ]
  },
  {
   "cell_type": "markdown",
   "id": "943b17b6",
   "metadata": {
    "id": "kCoAXQ6e9oJw",
    "papermill": {
     "duration": 2.590432,
     "end_time": "2022-03-09T11:11:17.630159",
     "exception": false,
     "start_time": "2022-03-09T11:11:15.039727",
     "status": "completed"
    },
    "tags": []
   },
   "source": [
    "Dibujamos las primeras imagenes, con las predicciones y sus valores reales (un total de 20 imagenes, para no abusar de vuestros laptops)\n",
    "\n",
    "Coloreamos las prediciones correctas en azul y los fallos en rojo. Aunque primero he impreso las etiquetas para que tengamos una referencia al grafico."
   ]
  },
  {
   "cell_type": "code",
   "execution_count": 22,
   "id": "67040680",
   "metadata": {
    "execution": {
     "iopub.execute_input": "2022-03-09T11:11:22.805941Z",
     "iopub.status.busy": "2022-03-09T11:11:22.804828Z",
     "iopub.status.idle": "2022-03-09T11:11:26.495616Z",
     "shell.execute_reply": "2022-03-09T11:11:26.496162Z",
     "shell.execute_reply.started": "2022-03-09T11:02:00.526274Z"
    },
    "id": "4jcGyOkV9oJx",
    "papermill": {
     "duration": 6.318426,
     "end_time": "2022-03-09T11:11:26.496378",
     "exception": false,
     "start_time": "2022-03-09T11:11:20.177952",
     "status": "completed"
    },
    "tags": []
   },
   "outputs": [
    {
     "name": "stdout",
     "output_type": "stream",
     "text": [
      "0 airplane\n",
      "1 automobile\n",
      "2 bird\n",
      "3 cat\n",
      "4 deer\n",
      "5 dog\n",
      "6 frog\n",
      "7 horse\n",
      "8 ship\n",
      "9 truck\n"
     ]
    },
    {
     "data": {
      "image/png": "[encoded data removed]",
      "text/plain": [
       "<Figure size 1152x720 with 40 Axes>"
      ]
     },
     "metadata": {
      "needs_background": "light"
     },
     "output_type": "display_data"
    }
   ],
   "source": [
    "i = 0\n",
    "for l in cifar10_labels:\n",
    "    print(i, l)\n",
    "    i += 1\n",
    "\n",
    "num_rows = 5\n",
    "num_cols = 4\n",
    "start = 650\n",
    "num_images = num_rows*num_cols\n",
    "plt.figure(figsize=(2*2*num_cols, 2*num_rows))\n",
    "for i in range(num_images):\n",
    "  plt.subplot(num_rows, 2*num_cols, 2*i+1)\n",
    "  plot_image(i+start, predictions[i+start], y_test, x_test)\n",
    "  plt.subplot(num_rows, 2*num_cols, 2*i+2)\n",
    "  plot_value_array(i+start, predictions[i+start], y_test)\n",
    "plt.tight_layout()\n",
    "plt.show()"
   ]
  },
  {
   "cell_type": "markdown",
   "id": "7a1e51b2",
   "metadata": {
    "id": "qWT3tPd2-MOP",
    "papermill": {
     "duration": 2.800726,
     "end_time": "2022-03-09T11:11:31.669288",
     "exception": false,
     "start_time": "2022-03-09T11:11:28.868562",
     "status": "completed"
    },
    "tags": []
   },
   "source": [
    "## 7. Guardamos el modelo para futuras evaluaciones\n",
    "\n",
    "Id cambiando los nombres del archivo para ir guardando los diversos proyectos.\n",
    "Aquí lo guardamos en \"local\", pero recordad que lo ideal es que lo guardeis en Google Drive (teneis que montar la unidad, fijar la ruta y allí guardar el modelo .h5)"
   ]
  },
  {
   "cell_type": "code",
   "execution_count": 23,
   "id": "db1b4de6",
   "metadata": {
    "execution": {
     "iopub.execute_input": "2022-03-09T11:11:36.535149Z",
     "iopub.status.busy": "2022-03-09T11:11:36.534031Z",
     "iopub.status.idle": "2022-03-09T11:11:36.646838Z",
     "shell.execute_reply": "2022-03-09T11:11:36.646196Z",
     "shell.execute_reply.started": "2022-03-09T11:02:03.297816Z"
    },
    "id": "wEaRpWif9oJx",
    "papermill": {
     "duration": 2.553358,
     "end_time": "2022-03-09T11:11:36.646990",
     "exception": false,
     "start_time": "2022-03-09T11:11:34.093632",
     "status": "completed"
    },
    "tags": []
   },
   "outputs": [],
   "source": [
    "ruta_googledrive = \"/content/drive/MyDrive/\" # A revisar en vuestra instancia\n",
    "\n",
    "model.save(ruta_googledrive+'cifar10_base_model.h5')"
   ]
  },
  {
   "cell_type": "code",
   "execution_count": null,
   "id": "73ddbbbc",
   "metadata": {
    "id": "ER6y4Lz8iCTO",
    "papermill": {
     "duration": 2.433826,
     "end_time": "2022-03-09T11:11:41.454958",
     "exception": false,
     "start_time": "2022-03-09T11:11:39.021132",
     "status": "completed"
    },
    "tags": []
   },
   "outputs": [],
   "source": []
  },
  {
   "cell_type": "code",
   "execution_count": null,
   "id": "ddcd9bf3",
   "metadata": {
    "papermill": {
     "duration": 2.407222,
     "end_time": "2022-03-09T11:11:46.592252",
     "exception": false,
     "start_time": "2022-03-09T11:11:44.185030",
     "status": "completed"
    },
    "tags": []
   },
   "outputs": [],
   "source": []
  },
  {
   "cell_type": "code",
   "execution_count": null,
   "id": "8784b431",
   "metadata": {
    "papermill": {
     "duration": 2.470327,
     "end_time": "2022-03-09T11:11:52.114891",
     "exception": false,
     "start_time": "2022-03-09T11:11:49.644564",
     "status": "completed"
    },
    "tags": []
   },
   "outputs": [],
   "source": []
  }
 ],
 "metadata": {
  "kernelspec": {
   "display_name": "Python 3",
   "language": "python",
   "name": "python3"
  },
  "language_info": {
   "codemirror_mode": {
    "name": "ipython",
    "version": 3
   },
   "file_extension": ".py",
   "mimetype": "text/x-python",
   "name": "python",
   "nbconvert_exporter": "python",
   "pygments_lexer": "ipython3",
   "version": "3.7.12"
  },
  "papermill": {
   "default_parameters": {},
   "duration": 542.533933,
   "end_time": "2022-03-09T11:11:58.089583",
   "environment_variables": {},
   "exception": null,
   "input_path": "__notebook__.ipynb",
   "output_path": "__notebook__.ipynb",
   "parameters": {},
   "start_time": "2022-03-09T11:02:55.555650",
   "version": "2.3.3"
  }
 },
 "nbformat": 4,
 "nbformat_minor": 5
}
